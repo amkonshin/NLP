{
 "cells": [
  {
   "cell_type": "code",
   "execution_count": 7,
   "metadata": {},
   "outputs": [],
   "source": [
    "import pandas as pd"
   ]
  },
  {
   "cell_type": "code",
   "execution_count": 8,
   "metadata": {},
   "outputs": [],
   "source": [
    "df=pd.read_csv('tweets.csv', index_col=0)"
   ]
  },
  {
   "cell_type": "code",
   "execution_count": 9,
   "metadata": {},
   "outputs": [
    {
     "data": {
      "text/html": [
       "<div>\n",
       "<style scoped>\n",
       "    .dataframe tbody tr th:only-of-type {\n",
       "        vertical-align: middle;\n",
       "    }\n",
       "\n",
       "    .dataframe tbody tr th {\n",
       "        vertical-align: top;\n",
       "    }\n",
       "\n",
       "    .dataframe thead th {\n",
       "        text-align: right;\n",
       "    }\n",
       "</style>\n",
       "<table border=\"1\" class=\"dataframe\">\n",
       "  <thead>\n",
       "    <tr style=\"text-align: right;\">\n",
       "      <th></th>\n",
       "      <th>label</th>\n",
       "      <th>tweet</th>\n",
       "      <th>clear_tweet</th>\n",
       "      <th>tweet_token</th>\n",
       "      <th>tweet_token_filtered</th>\n",
       "      <th>tweet_stemmed</th>\n",
       "      <th>tweet_lemmatized</th>\n",
       "    </tr>\n",
       "    <tr>\n",
       "      <th>id</th>\n",
       "      <th></th>\n",
       "      <th></th>\n",
       "      <th></th>\n",
       "      <th></th>\n",
       "      <th></th>\n",
       "      <th></th>\n",
       "      <th></th>\n",
       "    </tr>\n",
       "  </thead>\n",
       "  <tbody>\n",
       "    <tr>\n",
       "      <th>1</th>\n",
       "      <td>0.0</td>\n",
       "      <td>@user when a father is dysfunctional and is s...</td>\n",
       "      <td>when father is dysfunctional and is so selfish...</td>\n",
       "      <td>['when', 'father', 'is', 'dysfunctional', 'and...</td>\n",
       "      <td>['father', 'dysfunctional', 'selfish', 'drags'...</td>\n",
       "      <td>['father', 'dysfunct', 'selfish', 'drag', 'kid...</td>\n",
       "      <td>['father', 'dysfunctional', 'selfish', 'drag',...</td>\n",
       "    </tr>\n",
       "    <tr>\n",
       "      <th>2</th>\n",
       "      <td>0.0</td>\n",
       "      <td>@user @user thanks for #lyft credit i can't us...</td>\n",
       "      <td>thanks for lyft credit cannot use because they...</td>\n",
       "      <td>['thanks', 'for', 'lyft', 'credit', 'can', 'no...</td>\n",
       "      <td>['thanks', 'lyft', 'credit', 'use', 'offer', '...</td>\n",
       "      <td>['thank', 'lyft', 'credit', 'use', 'offer', 'w...</td>\n",
       "      <td>['thank', 'lyft', 'credit', 'use', 'offer', 'w...</td>\n",
       "    </tr>\n",
       "    <tr>\n",
       "      <th>3</th>\n",
       "      <td>0.0</td>\n",
       "      <td>bihday your majesty</td>\n",
       "      <td>bihday your majesty</td>\n",
       "      <td>['bihday', 'your', 'majesty']</td>\n",
       "      <td>['bihday', 'majesty']</td>\n",
       "      <td>['bihday', 'majesti']</td>\n",
       "      <td>['bihday', 'majesty']</td>\n",
       "    </tr>\n",
       "    <tr>\n",
       "      <th>4</th>\n",
       "      <td>0.0</td>\n",
       "      <td>#model   i love u take with u all the time in ...</td>\n",
       "      <td>model love you take with you all the time in your</td>\n",
       "      <td>['model', 'love', 'you', 'take', 'with', 'you'...</td>\n",
       "      <td>['model', 'love', 'take', 'time']</td>\n",
       "      <td>['model', 'love', 'take', 'time']</td>\n",
       "      <td>['model', 'love', 'take', 'time']</td>\n",
       "    </tr>\n",
       "    <tr>\n",
       "      <th>5</th>\n",
       "      <td>0.0</td>\n",
       "      <td>factsguide: society now    #motivation</td>\n",
       "      <td>factsguide society now motivation</td>\n",
       "      <td>['factsguide', 'society', 'now', 'motivation']</td>\n",
       "      <td>['factsguide', 'society', 'motivation']</td>\n",
       "      <td>['factsguid', 'societi', 'motiv']</td>\n",
       "      <td>['factsguide', 'society', 'motivation']</td>\n",
       "    </tr>\n",
       "    <tr>\n",
       "      <th>...</th>\n",
       "      <td>...</td>\n",
       "      <td>...</td>\n",
       "      <td>...</td>\n",
       "      <td>...</td>\n",
       "      <td>...</td>\n",
       "      <td>...</td>\n",
       "      <td>...</td>\n",
       "    </tr>\n",
       "    <tr>\n",
       "      <th>49155</th>\n",
       "      <td>NaN</td>\n",
       "      <td>thought factory: left-right polarisation! #tru...</td>\n",
       "      <td>thought factory left right polarisation trump ...</td>\n",
       "      <td>['thought', 'factory', 'left', 'right', 'polar...</td>\n",
       "      <td>['thought', 'factory', 'left', 'right', 'polar...</td>\n",
       "      <td>['thought', 'factori', 'left', 'right', 'polar...</td>\n",
       "      <td>['think', 'factory', 'leave', 'right', 'polari...</td>\n",
       "    </tr>\n",
       "    <tr>\n",
       "      <th>49156</th>\n",
       "      <td>NaN</td>\n",
       "      <td>feeling like a mermaid ð #hairflip #neverre...</td>\n",
       "      <td>feeling like mermaid hairflip neverready forma...</td>\n",
       "      <td>['feeling', 'like', 'mermaid', 'hairflip', 'ne...</td>\n",
       "      <td>['feeling', 'like', 'mermaid', 'hairflip', 'ne...</td>\n",
       "      <td>['feel', 'like', 'mermaid', 'hairflip', 'never...</td>\n",
       "      <td>['feel', 'like', 'mermaid', 'hairflip', 'never...</td>\n",
       "    </tr>\n",
       "    <tr>\n",
       "      <th>49157</th>\n",
       "      <td>NaN</td>\n",
       "      <td>#hillary #campaigned today in #ohio((omg)) &amp;am...</td>\n",
       "      <td>hillary campaigned today in ohio omg used word...</td>\n",
       "      <td>['hillary', 'campaigned', 'today', 'in', 'ohio...</td>\n",
       "      <td>['hillary', 'campaigned', 'today', 'ohio', 'om...</td>\n",
       "      <td>['hillari', 'campaign', 'today', 'ohio', 'omg'...</td>\n",
       "      <td>['hillary', 'campaign', 'today', 'ohio', 'omg'...</td>\n",
       "    </tr>\n",
       "    <tr>\n",
       "      <th>49158</th>\n",
       "      <td>NaN</td>\n",
       "      <td>happy, at work conference: right mindset leads...</td>\n",
       "      <td>happy at work conference right mindset leads t...</td>\n",
       "      <td>['happy', 'at', 'work', 'conference', 'right',...</td>\n",
       "      <td>['happy', 'work', 'conference', 'right', 'mind...</td>\n",
       "      <td>['happi', 'work', 'confer', 'right', 'mindset'...</td>\n",
       "      <td>['happy', 'work', 'conference', 'right', 'mind...</td>\n",
       "    </tr>\n",
       "    <tr>\n",
       "      <th>49159</th>\n",
       "      <td>NaN</td>\n",
       "      <td>my   song \"so glad\" free download!  #shoegaze ...</td>\n",
       "      <td>my song so glad free download shoegaze newmusi...</td>\n",
       "      <td>['my', 'song', 'so', 'glad', 'free', 'download...</td>\n",
       "      <td>['song', 'glad', 'free', 'download', 'shoegaze...</td>\n",
       "      <td>['song', 'glad', 'free', 'download', 'shoegaz'...</td>\n",
       "      <td>['song', 'glad', 'free', 'download', 'shoegaze...</td>\n",
       "    </tr>\n",
       "  </tbody>\n",
       "</table>\n",
       "<p>49159 rows × 7 columns</p>\n",
       "</div>"
      ],
      "text/plain": [
       "       label                                              tweet  \\\n",
       "id                                                                \n",
       "1        0.0   @user when a father is dysfunctional and is s...   \n",
       "2        0.0  @user @user thanks for #lyft credit i can't us...   \n",
       "3        0.0                                bihday your majesty   \n",
       "4        0.0  #model   i love u take with u all the time in ...   \n",
       "5        0.0             factsguide: society now    #motivation   \n",
       "...      ...                                                ...   \n",
       "49155    NaN  thought factory: left-right polarisation! #tru...   \n",
       "49156    NaN  feeling like a mermaid ð #hairflip #neverre...   \n",
       "49157    NaN  #hillary #campaigned today in #ohio((omg)) &am...   \n",
       "49158    NaN  happy, at work conference: right mindset leads...   \n",
       "49159    NaN  my   song \"so glad\" free download!  #shoegaze ...   \n",
       "\n",
       "                                             clear_tweet  \\\n",
       "id                                                         \n",
       "1      when father is dysfunctional and is so selfish...   \n",
       "2      thanks for lyft credit cannot use because they...   \n",
       "3                                    bihday your majesty   \n",
       "4      model love you take with you all the time in your   \n",
       "5                      factsguide society now motivation   \n",
       "...                                                  ...   \n",
       "49155  thought factory left right polarisation trump ...   \n",
       "49156  feeling like mermaid hairflip neverready forma...   \n",
       "49157  hillary campaigned today in ohio omg used word...   \n",
       "49158  happy at work conference right mindset leads t...   \n",
       "49159  my song so glad free download shoegaze newmusi...   \n",
       "\n",
       "                                             tweet_token  \\\n",
       "id                                                         \n",
       "1      ['when', 'father', 'is', 'dysfunctional', 'and...   \n",
       "2      ['thanks', 'for', 'lyft', 'credit', 'can', 'no...   \n",
       "3                          ['bihday', 'your', 'majesty']   \n",
       "4      ['model', 'love', 'you', 'take', 'with', 'you'...   \n",
       "5         ['factsguide', 'society', 'now', 'motivation']   \n",
       "...                                                  ...   \n",
       "49155  ['thought', 'factory', 'left', 'right', 'polar...   \n",
       "49156  ['feeling', 'like', 'mermaid', 'hairflip', 'ne...   \n",
       "49157  ['hillary', 'campaigned', 'today', 'in', 'ohio...   \n",
       "49158  ['happy', 'at', 'work', 'conference', 'right',...   \n",
       "49159  ['my', 'song', 'so', 'glad', 'free', 'download...   \n",
       "\n",
       "                                    tweet_token_filtered  \\\n",
       "id                                                         \n",
       "1      ['father', 'dysfunctional', 'selfish', 'drags'...   \n",
       "2      ['thanks', 'lyft', 'credit', 'use', 'offer', '...   \n",
       "3                                  ['bihday', 'majesty']   \n",
       "4                      ['model', 'love', 'take', 'time']   \n",
       "5                ['factsguide', 'society', 'motivation']   \n",
       "...                                                  ...   \n",
       "49155  ['thought', 'factory', 'left', 'right', 'polar...   \n",
       "49156  ['feeling', 'like', 'mermaid', 'hairflip', 'ne...   \n",
       "49157  ['hillary', 'campaigned', 'today', 'ohio', 'om...   \n",
       "49158  ['happy', 'work', 'conference', 'right', 'mind...   \n",
       "49159  ['song', 'glad', 'free', 'download', 'shoegaze...   \n",
       "\n",
       "                                           tweet_stemmed  \\\n",
       "id                                                         \n",
       "1      ['father', 'dysfunct', 'selfish', 'drag', 'kid...   \n",
       "2      ['thank', 'lyft', 'credit', 'use', 'offer', 'w...   \n",
       "3                                  ['bihday', 'majesti']   \n",
       "4                      ['model', 'love', 'take', 'time']   \n",
       "5                      ['factsguid', 'societi', 'motiv']   \n",
       "...                                                  ...   \n",
       "49155  ['thought', 'factori', 'left', 'right', 'polar...   \n",
       "49156  ['feel', 'like', 'mermaid', 'hairflip', 'never...   \n",
       "49157  ['hillari', 'campaign', 'today', 'ohio', 'omg'...   \n",
       "49158  ['happi', 'work', 'confer', 'right', 'mindset'...   \n",
       "49159  ['song', 'glad', 'free', 'download', 'shoegaz'...   \n",
       "\n",
       "                                        tweet_lemmatized  \n",
       "id                                                        \n",
       "1      ['father', 'dysfunctional', 'selfish', 'drag',...  \n",
       "2      ['thank', 'lyft', 'credit', 'use', 'offer', 'w...  \n",
       "3                                  ['bihday', 'majesty']  \n",
       "4                      ['model', 'love', 'take', 'time']  \n",
       "5                ['factsguide', 'society', 'motivation']  \n",
       "...                                                  ...  \n",
       "49155  ['think', 'factory', 'leave', 'right', 'polari...  \n",
       "49156  ['feel', 'like', 'mermaid', 'hairflip', 'never...  \n",
       "49157  ['hillary', 'campaign', 'today', 'ohio', 'omg'...  \n",
       "49158  ['happy', 'work', 'conference', 'right', 'mind...  \n",
       "49159  ['song', 'glad', 'free', 'download', 'shoegaze...  \n",
       "\n",
       "[49159 rows x 7 columns]"
      ]
     },
     "execution_count": 9,
     "metadata": {},
     "output_type": "execute_result"
    }
   ],
   "source": [
    "df"
   ]
  },
  {
   "cell_type": "code",
   "execution_count": null,
   "metadata": {},
   "outputs": [],
   "source": [
    "#!pip install -U spacy\n",
    "#!python -m spacy info"
   ]
  },
  {
   "cell_type": "code",
   "execution_count": 4,
   "metadata": {},
   "outputs": [],
   "source": [
    "import spacy"
   ]
  },
  {
   "cell_type": "code",
   "execution_count": 5,
   "metadata": {},
   "outputs": [],
   "source": [
    "\n",
    "from spacy import displacy\n",
    "import en_core_web_md\n"
   ]
  },
  {
   "cell_type": "code",
   "execution_count": 13,
   "metadata": {},
   "outputs": [
    {
     "name": "stderr",
     "output_type": "stream",
     "text": [
      "C:\\ProgramData\\Anaconda3\\lib\\site-packages\\spacy\\displacy\\__init__.py:189: UserWarning: [W006] No entities to visualize found in Doc object. If this is surprising to you, make sure the Doc was processed using a model that supports named entity recognition, and check the `doc.ents` property manually if necessary.\n",
      "  warnings.warn(Warnings.W006)\n"
     ]
    },
    {
     "data": {
      "text/html": [
       "<span class=\"tex2jax_ignore\"><div class=\"entities\" style=\"line-height: 2.5; direction: ltr\">when father is dysfunctional and is so selfish he drags his kids into his dysfunction run</div></span>"
      ],
      "text/plain": [
       "<IPython.core.display.HTML object>"
      ]
     },
     "metadata": {},
     "output_type": "display_data"
    }
   ],
   "source": [
    "\n",
    "nlp = en_core_web_md.load()\n",
    "#ny_bb = url_to_string('https://www.nytimes.com/2018/08/13/us/politics/peter-strzok-fired-fbi.html?hp&action=click&pgtype=Homepage&clickSource=story-heading&module=first-column-region&region=top-news&WT.nav=top-news')\n",
    "ny_bb=df['clear_tweet'][1]\n",
    "article = nlp(ny_bb)\n",
    "displacy.render(article, jupyter=True, style='ent')"
   ]
  },
  {
   "cell_type": "code",
   "execution_count": 15,
   "metadata": {},
   "outputs": [
    {
     "name": "stdout",
     "output_type": "stream",
     "text": [
      "Apple 0 5 ORG\n",
      "U.K. 27 31 GPE\n",
      "$1 billion 44 54 MONEY\n"
     ]
    }
   ],
   "source": [
    "\n",
    "\n",
    "  \n",
    "\n",
    "nlp = spacy.load('en_core_web_md')\n",
    "\n",
    "  \n",
    "\n",
    "sentence = \"Apple is looking at buying U.K. startup for $1 billion\"\n",
    "\n",
    "  \n",
    "\n",
    "doc = nlp(sentence)\n",
    "\n",
    "  \n",
    "\n",
    "for ent in doc.ents:\n",
    "\n",
    "    print(ent.text, ent.start_char, ent.end_char, ent.label_)"
   ]
  },
  {
   "cell_type": "code",
   "execution_count": 10,
   "metadata": {},
   "outputs": [
    {
     "ename": "NameError",
     "evalue": "name 'url_to_string' is not defined",
     "output_type": "error",
     "traceback": [
      "\u001b[1;31m---------------------------------------------------------------------------\u001b[0m",
      "\u001b[1;31mNameError\u001b[0m                                 Traceback (most recent call last)",
      "\u001b[1;32m<ipython-input-10-14e89b0dcd44>\u001b[0m in \u001b[0;36m<module>\u001b[1;34m\u001b[0m\n\u001b[1;32m----> 1\u001b[1;33m \u001b[0mny_bb\u001b[0m \u001b[1;33m=\u001b[0m \u001b[0murl_to_string\u001b[0m\u001b[1;33m(\u001b[0m\u001b[1;34m'https://www.nytimes.com/2018/08/13/us/politics/peter-strzok-fired-fbi.html?hp&action=click&pgtype=Homepage&clickSource=story-heading&module=first-column-region&region=top-news&WT.nav=top-news'\u001b[0m\u001b[1;33m)\u001b[0m\u001b[1;33m\u001b[0m\u001b[1;33m\u001b[0m\u001b[0m\n\u001b[0m",
      "\u001b[1;31mNameError\u001b[0m: name 'url_to_string' is not defined"
     ]
    }
   ],
   "source": [
    "ny_bb = url_to_string('https://www.nytimes.com/2018/08/13/us/politics/peter-strzok-fired-fbi.html?hp&action=click&pgtype=Homepage&clickSource=story-heading&module=first-column-region&region=top-news&WT.nav=top-news')\n"
   ]
  }
 ],
 "metadata": {
  "kernelspec": {
   "display_name": "Python 3",
   "language": "python",
   "name": "python3"
  },
  "language_info": {
   "codemirror_mode": {
    "name": "ipython",
    "version": 3
   },
   "file_extension": ".py",
   "mimetype": "text/x-python",
   "name": "python",
   "nbconvert_exporter": "python",
   "pygments_lexer": "ipython3",
   "version": "3.8.3"
  }
 },
 "nbformat": 4,
 "nbformat_minor": 2
}
