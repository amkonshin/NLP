{
 "cells": [
  {
   "cell_type": "markdown",
   "metadata": {
    "colab_type": "text",
    "id": "V8FsvOED8UlF"
   },
   "source": [
    "# Нейросети в обработке текста\n",
    "\n",
    "Нейросети могут выделить сложные паттерны — взаимоотношения в данных. Для текстов, паттерны проявляются, как именно слова употребляются вместе, как построены фразы. Другими словами, нейросети нужны для того, чтобы представить контекст в виде математического объекта — вектора или матрицы. \n",
    "\n",
    "### Основные блоки\n",
    "\n",
    "1. **Свёрточные блоки** \n",
    "  * Для текстов используются одномерные свёртки.\n",
    "  * Хорошо подходят для нахождения в данных локальных паттернов.\n",
    "  * Эффективно распараллеливаются на видеокартах \n",
    "  * Достаточно быстрые и простые \n",
    "  * Хорошо учатся \n",
    "  * Недостаточно гибкие и мощные, для широких паттернов — например, сравнивать первое слово в предложении и последнее, игнорируя при этом слова между ними. А также, чтобы увеличить максимальную длину паттерна, нужно существенно увеличить количество параметров свёрточной сети.\n",
    "\n",
    "2. **Рекуррентные блоки**\n",
    "  * Последовательно токен за токеном\n",
    "  * Информация обо всём предложении\n",
    "  * В результате могут учитываться достаточно длинные зависимости. \n",
    "  * Учить гораздо сложнее.\n",
    "\n",
    "3. **Блоки пулинга**\n",
    "  * убирает мелкие детали и оставляет только значимые. \n",
    "  * соседние элементы матриц усредняются или заменяются на один — например, максимальный.\n",
    "\n",
    "4. **Блоки внимания**\n",
    "  * По сути, механизм внимания осуществляет попарное сравнение элементов двух последовательностей, и позволяет выбрать только наиболее значимые их элементы, чтобы продолжить работу только с ними, а всё остальное убрать. \n",
    "  * Можно рассматривать механизм внимания как умный адаптивный пулинг. \n",
    "  * Сети \"с вниманием\", как правило, хорошо учатся. \n",
    "\n",
    "5. **Рекурсивные нейросети**\n",
    "  * обобщение RNN\n",
    "  * работают не с последовательностями, а с деревьями. \n",
    "  * Они применяются, например, для того, чтобы сначала выполнить синтаксический анализ, а потом пройтись по построенному дереву и агрегировать информацию из отдельных узлов. \n",
    "\n",
    "6. **Графовые свёрточные нейросети**\n",
    "  * Обобщение и свёрточных, и рекуррентных нейросетей на произвольную структуру графа. \n",
    "  * Сейчас активно исследуется."
   ]
  },
  {
   "cell_type": "markdown",
   "metadata": {
    "colab_type": "text",
    "id": "nQglPQH2Rncq"
   },
   "source": [
    "### Общее описание сверток\n",
    "\n",
    "Напомню, свертки - это то, с чего начался хайп нейронных сетей в районе 2012-ого.\n",
    "\n",
    "Работают они примерно так:  \n",
    "![Conv example](https://image.ibb.co/e6t8ZK/Convolution.gif)   \n",
    "From [Feature extraction using convolution](http://deeplearning.stanford.edu/wiki/index.php/Feature_extraction_using_convolution).\n",
    "\n",
    "Формально - учатся наборы фильтров, каждый из которых скалярно умножается на элементы матрицы признаков. На картинке выше исходная матрица сворачивается с фильтром\n",
    "$$\n",
    " \\begin{pmatrix}\n",
    "  1 & 0 & 1 \\\\\n",
    "  0 & 1 & 0 \\\\\n",
    "  1 & 0 & 1\n",
    " \\end{pmatrix}\n",
    "$$\n",
    "\n",
    "Но нужно не забывать, что свертки обычно имеют ещё такую размерность, как число каналов. Например, картинки имеют обычно три канала: RGB.  \n",
    "Наглядно демонстрируется как выглядят при этом фильтры [здесь](http://cs231n.github.io/convolutional-networks/#conv).\n",
    "\n",
    "После сверток обычно следуют pooling-слои. Они помогают уменьшить размерность тензора, с которым приходится работать. Самым частым является max-pooling:  \n",
    "![maxpooling](http://cs231n.github.io/assets/cnn/maxpool.jpeg)  \n",
    "From [CS231n Convolutional Neural Networks for Visual Recognition](http://cs231n.github.io/convolutional-networks/#pool)"
   ]
  },
  {
   "cell_type": "markdown",
   "metadata": {
    "colab_type": "text",
    "id": "hdPE2FBHSXZt"
   },
   "source": [
    "### Свёртки для текстов\n",
    "\n",
    "Для текстов свертки работают как n-граммные детекторы (примерно). Каноничный пример символьной сверточной сети:\n",
    "\n",
    "![text-convs](https://image.ibb.co/bC3Xun/2018_03_27_01_24_39.png)  \n",
    "From [Character-Aware Neural Language Models](https://arxiv.org/abs/1508.06615)\n",
    "\n",
    "*Сколько учится фильтров на данном примере?*\n",
    "\n",
    "На картинке показано, как из слова извлекаются 2, 3 и 4-граммы. Например, желтые - это триграммы. Желтый фильтр прикладывают ко всем триграммам в слове, а потом с помощью global max-pooling извлекают наиболее сильный сигнал.\n",
    "\n",
    "Что это значит, если конкретнее?\n",
    "\n",
    "Каждый символ отображается с помощью эмбеддингов в некоторый вектор. А их последовательности - в конкатенации эмбеддингов.  \n",
    "Например, \"abs\" $\\to [v_a; v_b; v_s] \\in \\mathbb{R}^{3 d}$, где $d$ - размерность эмбеддинга. Желтый фильтр $f_k$ имеет такую же размерность $3d$.  \n",
    "Его прикладывание - это скалярное произведение $\\left([v_a; v_b; v_s] \\odot f_k \\right) \\in \\mathbb R$ (один из желтых квадратиков в feature map для данного фильтра).\n",
    "\n",
    "Max-pooling выбирает $max_i \\left( [v_{i-1}; v_{i}; v_{i+1}] \\odot f_k \\right)$, где $i$ пробегается по всем индексам слова от 1 до $|w| - 1$ (либо по большему диапазону, если есть padding'и).   \n",
    "Этот максимум соответствует той триграмме, которая наиболее близка к фильтру по косинусному расстоянию.\n",
    "\n",
    "В результате в векторе после max-pooling'а закодирована информация о том, какие из n-грамм встретились в слове: если встретилась близкая к нашему $f_k$ триграмма, то в $k$-той позиции вектора будет стоять большое значение, иначе - маленькое.\n",
    "\n",
    "А учим мы как раз фильтры. То есть сеть должна научиться определять, какие из n-грамм значимы, а какие - нет."
   ]
  },
  {
   "cell_type": "markdown",
   "metadata": {
    "colab_type": "text",
    "id": "s-dLG6TWUPKz"
   },
   "source": [
    "В примере выше мы рассмотрели посимвольное применение свёрток к тексту. Аналогичный подход применим и к токенам на уровне слов. ![text-conv](https://i.ibb.co/pzpLGjD/screen-1.png)\n",
    "Каждое слово представленно эмбедингом. Свёртки тут выполняют роль биграм.\n",
    "\n",
    "Какой размер ядра свёртки?\n",
    "\n",
    "![text-conv2](https://i.ibb.co/wJsDJf1/screen-2.png)\n",
    "\n",
    "На практике вместо того что бы использовать один фильтр, как правило используют несколько (биграммы, триграммы и тд) каждый из фильтров пораждает своё признаковое описание и даёт несколько больше информации о тексте чем один фильтр. В процессе обучения сети эти фильтры выучиваются и мы можем смотреть на различные взаимосвязи со словами внутри n-gram.\n",
    "\n",
    "Есть ли проблемы в текущей архитектуре?\n",
    "\n",
    "Как быть когда мы применили много фильтров и получили несколько выходов?\n",
    "\n",
    "Эти проблемы решает пулинговый слой.\n",
    "![text-pool](https://i.ibb.co/J5L1TWx/screen-3.png)\n",
    "Для текста это max или avg по временной оси. Когда мы берём max-over-time pooling мы обучаем сеть на то что бы она брала максимально информативный фильтр на основе которого можно было бы сделать какие-то выводы. В количестве фильтров мы не ограничены поэтому можно брать большое количество фильтров и пытаться выбирать наиболее информативный фильтр на который обучится сеть.\n"
   ]
  },
  {
   "cell_type": "markdown",
   "metadata": {
    "colab_type": "text",
    "id": "m2TyfA4mGSmR"
   },
   "source": [
    "Типичная схема классификации текста с импользованием свёрток выглядит следующим образом\n",
    "![text-cls](https://i.ibb.co/N9WyTg0/screen-4.png)\n",
    "Сначала идут эмбединги слов, затем свёрточные слои, затем Max over time pooling. Причём для задач текста как правило max over time pooling работает лучше чем avg.\n",
    "\n",
    "Для повышения качества используют много различных свёрток и берётся не один max-pooling, а  K-max это тоже помогает в задачах.\n",
    "![text-cls2](https://i.ibb.co/2ty181Y/screen-5.png)\n",
    "\n",
    "Так же как и с изображениями для обработки текста есть глубокие свёрточные архитектуры\n",
    "\n",
    "![deep-cls](https://i.ibb.co/cTLPPKs/screen-6.png)\n",
    "\n",
    "Это ResNet подобная архитектура. Сеть довольно мощная и с помощью подобн№ых архитектур сетей можно решать различные задачи, не только классификацию.\n"
   ]
  },
  {
   "cell_type": "markdown",
   "metadata": {
    "colab_type": "text",
    "id": "wwAdrrlks_ZJ"
   },
   "source": [
    "# Практика Text classification using CNN"
   ]
  },
  {
   "cell_type": "markdown",
   "metadata": {
    "colab_type": "text",
    "id": "9eHK0K1Lw6nb"
   },
   "source": [
    "## Задача (Sentiment Analysis)\n",
    "\n",
    "Собраны твиты 2-ух тональностей, необходимо произвести классификацию на 2-а класса."
   ]
  },
  {
   "cell_type": "code",
   "execution_count": 1,
   "metadata": {
    "colab": {},
    "colab_type": "code",
    "id": "2H5tFUEMCE7d"
   },
   "outputs": [],
   "source": [
    "max_words = 200\n",
    "max_len = 40\n",
    "num_classes = 1\n",
    "\n",
    "# Training\n",
    "epochs = 20\n",
    "batch_size = 512\n",
    "print_batch_n = 100"
   ]
  },
  {
   "cell_type": "code",
   "execution_count": 2,
   "metadata": {
    "colab": {},
    "colab_type": "code",
    "id": "LUCk-5M2yg3S"
   },
   "outputs": [],
   "source": [
    "import pandas as pd\n",
    "\n",
    "df_train = pd.read_csv(\"data/train.csv\")\n",
    "df_test = pd.read_csv(\"data/test.csv\")\n",
    "df_val = pd.read_csv(\"data/val.csv\")"
   ]
  },
  {
   "cell_type": "code",
   "execution_count": 3,
   "metadata": {
    "colab": {
     "base_uri": "https://localhost:8080/",
     "height": 204
    },
    "colab_type": "code",
    "executionInfo": {
     "elapsed": 566,
     "status": "ok",
     "timestamp": 1590650140159,
     "user": {
      "displayName": "Roman Zakharov",
      "photoUrl": "",
      "userId": "18255168926005506833"
     },
     "user_tz": -240
    },
    "id": "KBSf-OfDzWOI",
    "outputId": "8b28d120-8490-44b3-cb86-6a1267ef1ad1"
   },
   "outputs": [
    {
     "data": {
      "text/html": [
       "<div>\n",
       "<style scoped>\n",
       "    .dataframe tbody tr th:only-of-type {\n",
       "        vertical-align: middle;\n",
       "    }\n",
       "\n",
       "    .dataframe tbody tr th {\n",
       "        vertical-align: top;\n",
       "    }\n",
       "\n",
       "    .dataframe thead th {\n",
       "        text-align: right;\n",
       "    }\n",
       "</style>\n",
       "<table border=\"1\" class=\"dataframe\">\n",
       "  <thead>\n",
       "    <tr style=\"text-align: right;\">\n",
       "      <th></th>\n",
       "      <th>id</th>\n",
       "      <th>text</th>\n",
       "      <th>class</th>\n",
       "    </tr>\n",
       "  </thead>\n",
       "  <tbody>\n",
       "    <tr>\n",
       "      <th>0</th>\n",
       "      <td>0</td>\n",
       "      <td>@alisachachka не уезжаааааааай. :(❤ я тоже не ...</td>\n",
       "      <td>0</td>\n",
       "    </tr>\n",
       "    <tr>\n",
       "      <th>1</th>\n",
       "      <td>1</td>\n",
       "      <td>RT @GalyginVadim: Ребята и девчата!\\nВсе в кин...</td>\n",
       "      <td>1</td>\n",
       "    </tr>\n",
       "    <tr>\n",
       "      <th>2</th>\n",
       "      <td>2</td>\n",
       "      <td>RT @ARTEM_KLYUSHIN: Кто ненавидит пробки ретви...</td>\n",
       "      <td>0</td>\n",
       "    </tr>\n",
       "    <tr>\n",
       "      <th>3</th>\n",
       "      <td>3</td>\n",
       "      <td>RT @epupybobv: Хочется котлету по-киевски. Зап...</td>\n",
       "      <td>1</td>\n",
       "    </tr>\n",
       "    <tr>\n",
       "      <th>4</th>\n",
       "      <td>4</td>\n",
       "      <td>@KarineKurganova @Yess__Boss босапопа есбоса н...</td>\n",
       "      <td>1</td>\n",
       "    </tr>\n",
       "  </tbody>\n",
       "</table>\n",
       "</div>"
      ],
      "text/plain": [
       "   id                                               text  class\n",
       "0   0  @alisachachka не уезжаааааааай. :(❤ я тоже не ...      0\n",
       "1   1  RT @GalyginVadim: Ребята и девчата!\\nВсе в кин...      1\n",
       "2   2  RT @ARTEM_KLYUSHIN: Кто ненавидит пробки ретви...      0\n",
       "3   3  RT @epupybobv: Хочется котлету по-киевски. Зап...      1\n",
       "4   4  @KarineKurganova @Yess__Boss босапопа есбоса н...      1"
      ]
     },
     "execution_count": 3,
     "metadata": {},
     "output_type": "execute_result"
    }
   ],
   "source": [
    "df_train.head()"
   ]
  },
  {
   "cell_type": "code",
   "execution_count": 4,
   "metadata": {
    "colab": {
     "base_uri": "https://localhost:8080/",
     "height": 204
    },
    "colab_type": "code",
    "executionInfo": {
     "elapsed": 5908,
     "status": "ok",
     "timestamp": 1590650166113,
     "user": {
      "displayName": "Roman Zakharov",
      "photoUrl": "",
      "userId": "18255168926005506833"
     },
     "user_tz": -240
    },
    "id": "LuZtq9cwIvMt",
    "outputId": "91c8b4fb-a01b-4bbb-c3a9-2dc08922f193"
   },
   "outputs": [
    {
     "data": {
      "text/html": [
       "<div>\n",
       "<style scoped>\n",
       "    .dataframe tbody tr th:only-of-type {\n",
       "        vertical-align: middle;\n",
       "    }\n",
       "\n",
       "    .dataframe tbody tr th {\n",
       "        vertical-align: top;\n",
       "    }\n",
       "\n",
       "    .dataframe thead th {\n",
       "        text-align: right;\n",
       "    }\n",
       "</style>\n",
       "<table border=\"1\" class=\"dataframe\">\n",
       "  <thead>\n",
       "    <tr style=\"text-align: right;\">\n",
       "      <th></th>\n",
       "      <th>id</th>\n",
       "      <th>text</th>\n",
       "    </tr>\n",
       "  </thead>\n",
       "  <tbody>\n",
       "    <tr>\n",
       "      <th>0</th>\n",
       "      <td>204150</td>\n",
       "      <td>Тектоника и рельеф-самое ужасное в мире мучение(</td>\n",
       "    </tr>\n",
       "    <tr>\n",
       "      <th>1</th>\n",
       "      <td>204151</td>\n",
       "      <td>Ходили запускать шар желаний, но у нас не полу...</td>\n",
       "    </tr>\n",
       "    <tr>\n",
       "      <th>2</th>\n",
       "      <td>204152</td>\n",
       "      <td>Хочу лето только ради того, что бы направить н...</td>\n",
       "    </tr>\n",
       "    <tr>\n",
       "      <th>3</th>\n",
       "      <td>204153</td>\n",
       "      <td>RT @RonyLiss: @colf_ne блин((\\nа я шипперила Ф...</td>\n",
       "    </tr>\n",
       "    <tr>\n",
       "      <th>4</th>\n",
       "      <td>204154</td>\n",
       "      <td>RT @anna_romt: @ZADROT_PO_IGRAM блин,каждое во...</td>\n",
       "    </tr>\n",
       "  </tbody>\n",
       "</table>\n",
       "</div>"
      ],
      "text/plain": [
       "       id                                               text\n",
       "0  204150   Тектоника и рельеф-самое ужасное в мире мучение(\n",
       "1  204151  Ходили запускать шар желаний, но у нас не полу...\n",
       "2  204152  Хочу лето только ради того, что бы направить н...\n",
       "3  204153  RT @RonyLiss: @colf_ne блин((\\nа я шипперила Ф...\n",
       "4  204154  RT @anna_romt: @ZADROT_PO_IGRAM блин,каждое во..."
      ]
     },
     "execution_count": 4,
     "metadata": {},
     "output_type": "execute_result"
    }
   ],
   "source": [
    "df_test.head()"
   ]
  },
  {
   "cell_type": "code",
   "execution_count": 5,
   "metadata": {
    "colab": {
     "base_uri": "https://localhost:8080/",
     "height": 204
    },
    "colab_type": "code",
    "executionInfo": {
     "elapsed": 625,
     "status": "ok",
     "timestamp": 1590650173083,
     "user": {
      "displayName": "Roman Zakharov",
      "photoUrl": "",
      "userId": "18255168926005506833"
     },
     "user_tz": -240
    },
    "id": "_9l0iHhaI0O1",
    "outputId": "4b7f24ee-222f-464b-e669-d653138571d1"
   },
   "outputs": [
    {
     "data": {
      "text/html": [
       "<div>\n",
       "<style scoped>\n",
       "    .dataframe tbody tr th:only-of-type {\n",
       "        vertical-align: middle;\n",
       "    }\n",
       "\n",
       "    .dataframe tbody tr th {\n",
       "        vertical-align: top;\n",
       "    }\n",
       "\n",
       "    .dataframe thead th {\n",
       "        text-align: right;\n",
       "    }\n",
       "</style>\n",
       "<table border=\"1\" class=\"dataframe\">\n",
       "  <thead>\n",
       "    <tr style=\"text-align: right;\">\n",
       "      <th></th>\n",
       "      <th>id</th>\n",
       "      <th>text</th>\n",
       "      <th>class</th>\n",
       "    </tr>\n",
       "  </thead>\n",
       "  <tbody>\n",
       "    <tr>\n",
       "      <th>0</th>\n",
       "      <td>181467</td>\n",
       "      <td>RT @TukvaSociopat: Максимальный репост! ))) #є...</td>\n",
       "      <td>1</td>\n",
       "    </tr>\n",
       "    <tr>\n",
       "      <th>1</th>\n",
       "      <td>181468</td>\n",
       "      <td>чтоб у меня з.п. ежегодно индексировали на инд...</td>\n",
       "      <td>0</td>\n",
       "    </tr>\n",
       "    <tr>\n",
       "      <th>2</th>\n",
       "      <td>181469</td>\n",
       "      <td>@chilyandlime нехуя мне не хорошо !!! :((((</td>\n",
       "      <td>0</td>\n",
       "    </tr>\n",
       "    <tr>\n",
       "      <th>3</th>\n",
       "      <td>181470</td>\n",
       "      <td>@inafish нее , когда ногами ахахах когда?ахаха...</td>\n",
       "      <td>0</td>\n",
       "    </tr>\n",
       "    <tr>\n",
       "      <th>4</th>\n",
       "      <td>181471</td>\n",
       "      <td>Хочу сделать как лучше,  а получаю как всегда. :(</td>\n",
       "      <td>0</td>\n",
       "    </tr>\n",
       "  </tbody>\n",
       "</table>\n",
       "</div>"
      ],
      "text/plain": [
       "       id                                               text  class\n",
       "0  181467  RT @TukvaSociopat: Максимальный репост! ))) #є...      1\n",
       "1  181468  чтоб у меня з.п. ежегодно индексировали на инд...      0\n",
       "2  181469        @chilyandlime нехуя мне не хорошо !!! :((((      0\n",
       "3  181470  @inafish нее , когда ногами ахахах когда?ахаха...      0\n",
       "4  181471  Хочу сделать как лучше,  а получаю как всегда. :(      0"
      ]
     },
     "execution_count": 5,
     "metadata": {},
     "output_type": "execute_result"
    }
   ],
   "source": [
    "df_val.head()"
   ]
  },
  {
   "cell_type": "markdown",
   "metadata": {
    "colab_type": "text",
    "id": "qEyvOxoOJDTP"
   },
   "source": [
    "### Предобработка"
   ]
  },
  {
   "cell_type": "code",
   "execution_count": 6,
   "metadata": {},
   "outputs": [],
   "source": [
    "from string import punctuation\n",
    "from stop_words import get_stop_words\n",
    "from pymorphy2 import MorphAnalyzer\n",
    "import re"
   ]
  },
  {
   "cell_type": "code",
   "execution_count": 7,
   "metadata": {},
   "outputs": [],
   "source": [
    "sw = set(get_stop_words(\"ru\"))\n",
    "exclude = set(punctuation)\n",
    "morpher = MorphAnalyzer()\n",
    "\n",
    "def preprocess_text(txt):\n",
    "    txt = str(txt)\n",
    "    txt = \"\".join(c for c in txt if c not in exclude)\n",
    "    txt = txt.lower()\n",
    "    txt = re.sub(\"\\sне\", \"не\", txt)\n",
    "    txt = [morpher.parse(word)[0].normal_form for word in txt.split() if word not in sw]\n",
    "    return \" \".join(txt)\n",
    "\n",
    "df_train['text'] = df_train['text'].apply(preprocess_text)\n",
    "df_val['text'] = df_val['text'].apply(preprocess_text)\n",
    "df_test['text'] = df_test['text'].apply(preprocess_text)"
   ]
  },
  {
   "cell_type": "code",
   "execution_count": 8,
   "metadata": {
    "colab": {},
    "colab_type": "code",
    "id": "C4o9QgmWI3Pw"
   },
   "outputs": [],
   "source": [
    "train_corpus = \" \".join(df_train[\"text\"])\n",
    "train_corpus = train_corpus.lower()"
   ]
  },
  {
   "cell_type": "code",
   "execution_count": 9,
   "metadata": {
    "colab": {
     "base_uri": "https://localhost:8080/",
     "height": 51
    },
    "colab_type": "code",
    "executionInfo": {
     "elapsed": 10183,
     "status": "ok",
     "timestamp": 1590650264825,
     "user": {
      "displayName": "Roman Zakharov",
      "photoUrl": "",
      "userId": "18255168926005506833"
     },
     "user_tz": -240
    },
    "id": "Hed2ySbwJH6B",
    "outputId": "66a75988-b4e3-45aa-a483-adbdc766db03"
   },
   "outputs": [
    {
     "name": "stderr",
     "output_type": "stream",
     "text": [
      "/home/rzaharov@mvs.local/.local/share/virtualenvs/nlp-course-A3nIyBIP/lib/python3.8/site-packages/sklearn/datasets/lfw.py:178: SyntaxWarning: \"is\" with a literal. Did you mean \"==\"?\n",
      "  if img.ndim is 0:\n",
      "[nltk_data] Downloading package punkt to\n",
      "[nltk_data]     /home/rzaharov@mvs.local/nltk_data...\n",
      "[nltk_data]   Package punkt is already up-to-date!\n"
     ]
    }
   ],
   "source": [
    "import nltk\n",
    "from nltk.tokenize import word_tokenize\n",
    "nltk.download(\"punkt\")\n",
    "\n",
    "tokens = word_tokenize(train_corpus)"
   ]
  },
  {
   "cell_type": "markdown",
   "metadata": {
    "colab_type": "text",
    "id": "yJ8T0fwYJYJX"
   },
   "source": [
    "Отфильтруем данные\n",
    "\n",
    "и соберём в корпус N наиболее частых токенов"
   ]
  },
  {
   "cell_type": "code",
   "execution_count": 10,
   "metadata": {
    "colab": {},
    "colab_type": "code",
    "id": "EXOLVK1tJLT8"
   },
   "outputs": [],
   "source": [
    "tokens_filtered = [word for word in tokens if word.isalnum()]"
   ]
  },
  {
   "cell_type": "code",
   "execution_count": 11,
   "metadata": {
    "colab": {},
    "colab_type": "code",
    "id": "8qCQH5nIJoiB"
   },
   "outputs": [],
   "source": [
    "from nltk.probability import FreqDist\n",
    "dist = FreqDist(tokens_filtered)\n",
    "tokens_filtered_top = [pair[0] for pair in dist.most_common(max_words-1)]"
   ]
  },
  {
   "cell_type": "code",
   "execution_count": 12,
   "metadata": {
    "colab": {
     "base_uri": "https://localhost:8080/",
     "height": 340
    },
    "colab_type": "code",
    "executionInfo": {
     "elapsed": 576,
     "status": "ok",
     "timestamp": 1590650396521,
     "user": {
      "displayName": "Roman Zakharov",
      "photoUrl": "",
      "userId": "18255168926005506833"
     },
     "user_tz": -240
    },
    "id": "bRQ-6wwjJrGo",
    "outputId": "ba8ebf9e-c6aa-4703-b54f-39b561e33493"
   },
   "outputs": [
    {
     "data": {
      "text/plain": [
       "['rt',\n",
       " 'd',\n",
       " 'хотеть',\n",
       " 'знать',\n",
       " 'ян',\n",
       " 'мочь',\n",
       " 'любить',\n",
       " 'завтра',\n",
       " 'мой',\n",
       " 'хороший']"
      ]
     },
     "execution_count": 12,
     "metadata": {},
     "output_type": "execute_result"
    }
   ],
   "source": [
    "tokens_filtered_top[:10]"
   ]
  },
  {
   "cell_type": "code",
   "execution_count": 13,
   "metadata": {
    "colab": {},
    "colab_type": "code",
    "id": "Tdk777qGJtz4"
   },
   "outputs": [],
   "source": [
    "vocabulary = {v: k for k, v in dict(enumerate(tokens_filtered_top, 1)).items()}"
   ]
  },
  {
   "cell_type": "code",
   "execution_count": 14,
   "metadata": {
    "colab": {},
    "colab_type": "code",
    "id": "5OULZgvkJzpj"
   },
   "outputs": [],
   "source": [
    "import numpy as np\n",
    "def text_to_sequence(text, maxlen):\n",
    "    result = []\n",
    "    tokens = word_tokenize(text.lower())\n",
    "    tokens_filtered = [word for word in tokens if word.isalnum()]\n",
    "    for word in tokens_filtered:\n",
    "        if word in vocabulary:\n",
    "            result.append(vocabulary[word])\n",
    "    padding = [0]*(maxlen-len(result))\n",
    "    return padding + result[-maxlen:]"
   ]
  },
  {
   "cell_type": "code",
   "execution_count": 15,
   "metadata": {
    "colab": {},
    "colab_type": "code",
    "id": "pqHlf5nNJ2hl"
   },
   "outputs": [],
   "source": [
    "x_train = np.asarray([text_to_sequence(text, max_len) for text in df_train[\"text\"]], dtype=np.int32)\n",
    "x_test = np.asarray([text_to_sequence(text, max_len) for text in df_test[\"text\"]], dtype=np.int32)\n",
    "x_val = np.asarray([text_to_sequence(text, max_len) for text in df_val[\"text\"]], dtype=np.int32)"
   ]
  },
  {
   "cell_type": "code",
   "execution_count": 16,
   "metadata": {
    "colab": {
     "base_uri": "https://localhost:8080/",
     "height": 34
    },
    "colab_type": "code",
    "executionInfo": {
     "elapsed": 562,
     "status": "ok",
     "timestamp": 1590650625870,
     "user": {
      "displayName": "Roman Zakharov",
      "photoUrl": "",
      "userId": "18255168926005506833"
     },
     "user_tz": -240
    },
    "id": "lI4NUg_TJ6NK",
    "outputId": "5d29285d-6c2e-4c34-f307-c2e9c3c12631"
   },
   "outputs": [
    {
     "data": {
      "text/plain": [
       "(181467, 40)"
      ]
     },
     "execution_count": 16,
     "metadata": {},
     "output_type": "execute_result"
    }
   ],
   "source": [
    "x_train.shape"
   ]
  },
  {
   "cell_type": "code",
   "execution_count": 18,
   "metadata": {},
   "outputs": [
    {
     "data": {
      "text/plain": [
       "40"
      ]
     },
     "execution_count": 18,
     "metadata": {},
     "output_type": "execute_result"
    }
   ],
   "source": [
    "max_len"
   ]
  },
  {
   "cell_type": "code",
   "execution_count": 20,
   "metadata": {
    "colab": {
     "base_uri": "https://localhost:8080/",
     "height": 170
    },
    "colab_type": "code",
    "executionInfo": {
     "elapsed": 643,
     "status": "ok",
     "timestamp": 1590650628713,
     "user": {
      "displayName": "Roman Zakharov",
      "photoUrl": "",
      "userId": "18255168926005506833"
     },
     "user_tz": -240
    },
    "id": "9QlLvXd9KDf3",
    "outputId": "0355c6dc-b479-4031-bf7d-54f158607906"
   },
   "outputs": [
    {
     "data": {
      "text/plain": [
       "array([  0,   0,   0,   0,   0,   0,   0,   0,   0,   0,   0,   0,   0,\n",
       "         0,   0,   0,   0,   0,   0,   0,   0,   0,   0,   0,   0,   0,\n",
       "         0,   0,   0,   0,   0,   0,   0,   0,   0,   0,   0,   1, 168,\n",
       "         8], dtype=int32)"
      ]
     },
     "execution_count": 20,
     "metadata": {},
     "output_type": "execute_result"
    }
   ],
   "source": [
    "x_train[1]"
   ]
  },
  {
   "cell_type": "markdown",
   "metadata": {},
   "source": [
    "# Keras model"
   ]
  },
  {
   "cell_type": "code",
   "execution_count": 21,
   "metadata": {},
   "outputs": [],
   "source": [
    "import numpy as np\n",
    "import keras\n",
    "from keras.models import Sequential, Model\n",
    "from keras.layers import Dense, Dropout, Activation, Input, Embedding, Conv1D, GlobalMaxPool1D\n",
    "from keras.preprocessing.text import Tokenizer\n",
    "from keras.preprocessing.sequence import pad_sequences\n",
    "from keras.callbacks import TensorBoard \n",
    "from keras.objectives import categorical_crossentropy\n",
    "from keras.callbacks import EarlyStopping  "
   ]
  },
  {
   "cell_type": "code",
   "execution_count": 22,
   "metadata": {},
   "outputs": [],
   "source": [
    "num_classes = 2\n",
    "y_train = keras.utils.to_categorical(df_train[\"class\"], num_classes)\n",
    "y_val = keras.utils.to_categorical(df_val[\"class\"], num_classes)"
   ]
  },
  {
   "cell_type": "code",
   "execution_count": 23,
   "metadata": {},
   "outputs": [],
   "source": [
    "model = Sequential()\n",
    "model.add(Embedding(input_dim=max_words, output_dim=128, input_length=max_len\n",
    "                   ))\n",
    "model.add(Conv1D(128, 3))\n",
    "model.add(Activation(\"relu\"))\n",
    "model.add(GlobalMaxPool1D())\n",
    "model.add(Dense(10))\n",
    "model.add(Activation(\"relu\"))\n",
    "model.add(Dense(num_classes))\n",
    "model.add(Activation('softmax'))"
   ]
  },
  {
   "cell_type": "code",
   "execution_count": 24,
   "metadata": {},
   "outputs": [],
   "source": [
    "model.compile(loss='categorical_crossentropy',\n",
    "              optimizer='adam',\n",
    "              metrics=['accuracy'])"
   ]
  },
  {
   "cell_type": "code",
   "execution_count": 25,
   "metadata": {},
   "outputs": [
    {
     "name": "stdout",
     "output_type": "stream",
     "text": [
      "Epoch 1/20\n",
      "  1/319 [..............................] - ETA: 0s - loss: 0.6953 - accuracy: 0.4551WARNING:tensorflow:From /home/rzaharov@mvs.local/.local/share/virtualenvs/nlp-course-A3nIyBIP/lib/python3.8/site-packages/tensorflow/python/ops/summary_ops_v2.py:1277: stop (from tensorflow.python.eager.profiler) is deprecated and will be removed after 2020-07-01.\n",
      "Instructions for updating:\n",
      "use `tf.profiler.experimental.stop` instead.\n",
      "319/319 [==============================] - 69s 215ms/step - loss: 0.6285 - accuracy: 0.6150 - val_loss: 0.6169 - val_accuracy: 0.6219\n",
      "Epoch 2/20\n",
      "319/319 [==============================] - 15s 46ms/step - loss: 0.6159 - accuracy: 0.6259 - val_loss: 0.6148 - val_accuracy: 0.6289\n",
      "Epoch 3/20\n",
      "319/319 [==============================] - 15s 48ms/step - loss: 0.6121 - accuracy: 0.6304 - val_loss: 0.6129 - val_accuracy: 0.6301\n",
      "Epoch 4/20\n",
      "319/319 [==============================] - 13s 42ms/step - loss: 0.6078 - accuracy: 0.6331 - val_loss: 0.6129 - val_accuracy: 0.6232\n",
      "Epoch 5/20\n",
      "319/319 [==============================] - 17s 54ms/step - loss: 0.6034 - accuracy: 0.6369 - val_loss: 0.6143 - val_accuracy: 0.6298\n"
     ]
    }
   ],
   "source": [
    "tensorboard=TensorBoard(log_dir='./logs', write_graph=True, write_images=True)\n",
    "early_stopping=EarlyStopping(monitor='val_loss')  \n",
    "\n",
    "\n",
    "history = model.fit(x_train, y_train,\n",
    "                    batch_size=batch_size,\n",
    "                    epochs=epochs,\n",
    "                    verbose=1,\n",
    "                    validation_split=0.1,\n",
    "                    callbacks=[tensorboard, early_stopping])"
   ]
  },
  {
   "cell_type": "code",
   "execution_count": 26,
   "metadata": {},
   "outputs": [
    {
     "name": "stdout",
     "output_type": "stream",
     "text": [
      "45/45 [==============================] - 0s 8ms/step - loss: 0.6200 - accuracy: 0.6207\n",
      "\n",
      "\n",
      "Test score: 0.6200124621391296\n",
      "Test accuracy: 0.6206851005554199\n"
     ]
    }
   ],
   "source": [
    "score = model.evaluate(x_val, y_val, batch_size=batch_size, verbose=1)\n",
    "print('\\n')\n",
    "print('Test score:', score[0])\n",
    "print('Test accuracy:', score[1])"
   ]
  },
  {
   "cell_type": "code",
   "execution_count": 27,
   "metadata": {},
   "outputs": [
    {
     "name": "stdout",
     "output_type": "stream",
     "text": [
      "45/45 [==============================] - 0s 8ms/step\n"
     ]
    }
   ],
   "source": [
    "results = model.predict(x_test, batch_size=batch_size, verbose=1)"
   ]
  },
  {
   "cell_type": "code",
   "execution_count": null,
   "metadata": {},
   "outputs": [],
   "source": []
  },
  {
   "cell_type": "code",
   "execution_count": 37,
   "metadata": {},
   "outputs": [],
   "source": [
    "from sklearn.feature_extraction.text import TfidfVectorizer\n",
    "from sklearn.linear_model import LogisticRegression\n",
    "\n",
    "from sklearn.metrics import accuracy_score "
   ]
  },
  {
   "cell_type": "code",
   "execution_count": 56,
   "metadata": {},
   "outputs": [],
   "source": [
    "vect = TfidfVectorizer(ngram_range=(1, 2), analyzer='word', lowercase=False)"
   ]
  },
  {
   "cell_type": "code",
   "execution_count": 57,
   "metadata": {},
   "outputs": [],
   "source": [
    "train_ft = vect.fit_transform(df_train['text'])\n",
    "valid_ft = vect.transform(df_val['text'])"
   ]
  },
  {
   "cell_type": "code",
   "execution_count": 58,
   "metadata": {},
   "outputs": [],
   "source": [
    "lgr = LogisticRegression()"
   ]
  },
  {
   "cell_type": "code",
   "execution_count": 59,
   "metadata": {},
   "outputs": [
    {
     "name": "stderr",
     "output_type": "stream",
     "text": [
      "/home/rzaharov@mvs.local/.local/share/virtualenvs/nlp-course-A3nIyBIP/lib/python3.8/site-packages/sklearn/linear_model/logistic.py:430: FutureWarning: Default solver will be changed to 'lbfgs' in 0.22. Specify a solver to silence this warning.\n",
      "  warnings.warn(\"Default solver will be changed to 'lbfgs' in 0.22. \"\n"
     ]
    },
    {
     "data": {
      "text/plain": [
       "LogisticRegression(C=1.0, class_weight=None, dual=False, fit_intercept=True,\n",
       "                   intercept_scaling=1, l1_ratio=None, max_iter=100,\n",
       "                   multi_class='warn', n_jobs=None, penalty='l2',\n",
       "                   random_state=None, solver='warn', tol=0.0001, verbose=0,\n",
       "                   warm_start=False)"
      ]
     },
     "execution_count": 59,
     "metadata": {},
     "output_type": "execute_result"
    }
   ],
   "source": [
    "lgr.fit(train_ft, df_train['class'].to_numpy())"
   ]
  },
  {
   "cell_type": "code",
   "execution_count": 60,
   "metadata": {},
   "outputs": [],
   "source": [
    "y_pred = lgr.predict(valid_ft)"
   ]
  },
  {
   "cell_type": "code",
   "execution_count": 61,
   "metadata": {},
   "outputs": [
    {
     "data": {
      "text/plain": [
       "0.7362341841908037"
      ]
     },
     "execution_count": 61,
     "metadata": {},
     "output_type": "execute_result"
    }
   ],
   "source": [
    "accuracy_score(df_val['class'].to_numpy(), y_pred)"
   ]
  },
  {
   "cell_type": "code",
   "execution_count": null,
   "metadata": {},
   "outputs": [],
   "source": []
  },
  {
   "cell_type": "code",
   "execution_count": 160,
   "metadata": {},
   "outputs": [],
   "source": [
    "from gensim.models import Word2Vec"
   ]
  },
  {
   "cell_type": "code",
   "execution_count": 71,
   "metadata": {},
   "outputs": [
    {
     "data": {
      "text/plain": [
       "0         alisachachkaн уезжаааааааать ❤ тожена хотеть у...\n",
       "1         rt galyginvadim ребята девчата кино любовь зав...\n",
       "2           rt artemklyushin ктоненавидеть пробка ретвит rt\n",
       "3         rt epupybobv хотеться котлета покиевск запретн...\n",
       "4         karinekurganova yessboss босапоп есбосан боять...\n",
       "                                ...                        \n",
       "181462                     классный новый httptcolejaguxnwu\n",
       "181463                       видеть человек привет игнорита\n",
       "181464    julia69styles длинный диагноз вкратце аллергич...\n",
       "181465    technoslav ух серенький кнопочень телефон дост...\n",
       "181466    kris1d07 собираться сделатьd навешать фотка ва...\n",
       "Name: text, Length: 181467, dtype: object"
      ]
     },
     "execution_count": 71,
     "metadata": {},
     "output_type": "execute_result"
    }
   ],
   "source": [
    "df_train['text']"
   ]
  },
  {
   "cell_type": "code",
   "execution_count": 72,
   "metadata": {},
   "outputs": [],
   "source": [
    "modelW2V = Word2Vec(sentences=df_train['text'].apply(str.split), size=50, window=5, min_count=1)"
   ]
  },
  {
   "cell_type": "code",
   "execution_count": 73,
   "metadata": {},
   "outputs": [
    {
     "data": {
      "text/plain": [
       "{'alisachachkaн': <gensim.models.keyedvectors.Vocab at 0x7f014468cb50>,\n",
       " 'уезжаааааааать': <gensim.models.keyedvectors.Vocab at 0x7f014468c640>,\n",
       " '❤': <gensim.models.keyedvectors.Vocab at 0x7f017c597e20>,\n",
       " 'тожена': <gensim.models.keyedvectors.Vocab at 0x7f017c5976a0>,\n",
       " 'хотеть': <gensim.models.keyedvectors.Vocab at 0x7f017c5973a0>,\n",
       " 'уезжать': <gensim.models.keyedvectors.Vocab at 0x7f017c597e50>,\n",
       " 'rt': <gensim.models.keyedvectors.Vocab at 0x7f017c597fd0>,\n",
       " 'galyginvadim': <gensim.models.keyedvectors.Vocab at 0x7f017c597910>,\n",
       " 'ребята': <gensim.models.keyedvectors.Vocab at 0x7f017c597a30>,\n",
       " 'девчата': <gensim.models.keyedvectors.Vocab at 0x7f017c5976d0>,\n",
       " 'кино': <gensim.models.keyedvectors.Vocab at 0x7f01eebe14f0>,\n",
       " 'любовь': <gensim.models.keyedvectors.Vocab at 0x7f01eebe1790>,\n",
       " 'завтра': <gensim.models.keyedvectors.Vocab at 0x7f019c2f3190>,\n",
       " 'вотэтолюбовь': <gensim.models.keyedvectors.Vocab at 0x7f019c2f3a00>,\n",
       " 'artemklyushin': <gensim.models.keyedvectors.Vocab at 0x7f019c2f34c0>,\n",
       " 'ктоненавидеть': <gensim.models.keyedvectors.Vocab at 0x7f019c2f3e80>,\n",
       " 'пробка': <gensim.models.keyedvectors.Vocab at 0x7f019c2f3eb0>,\n",
       " 'ретвит': <gensim.models.keyedvectors.Vocab at 0x7f019c2f38b0>,\n",
       " 'epupybobv': <gensim.models.keyedvectors.Vocab at 0x7f01446a11c0>,\n",
       " 'хотеться': <gensim.models.keyedvectors.Vocab at 0x7f01446a1520>,\n",
       " 'котлета': <gensim.models.keyedvectors.Vocab at 0x7f01446a1190>,\n",
       " 'покиевск': <gensim.models.keyedvectors.Vocab at 0x7f01e679ac10>,\n",
       " 'запретный': <gensim.models.keyedvectors.Vocab at 0x7f01e679aa30>,\n",
       " 'плод': <gensim.models.keyedvectors.Vocab at 0x7f006cef2910>,\n",
       " 'karinekurganova': <gensim.models.keyedvectors.Vocab at 0x7f006cef2b20>,\n",
       " 'yessboss': <gensim.models.keyedvectors.Vocab at 0x7f006cef2e20>,\n",
       " 'босапоп': <gensim.models.keyedvectors.Vocab at 0x7f006cef2ca0>,\n",
       " 'есбосан': <gensim.models.keyedvectors.Vocab at 0x7f006cef2c40>,\n",
       " 'бояться': <gensim.models.keyedvectors.Vocab at 0x7f006cef2fa0>,\n",
       " 'мороз': <gensim.models.keyedvectors.Vocab at 0x7f006cef2be0>,\n",
       " 'манчестер': <gensim.models.keyedvectors.Vocab at 0x7f006cef2a60>,\n",
       " 'час': <gensim.models.keyedvectors.Vocab at 0x7f006cef2ac0>,\n",
       " 'играть': <gensim.models.keyedvectors.Vocab at 0x7f006cef2f10>,\n",
       " 'ян': <gensim.models.keyedvectors.Vocab at 0x7f0144567700>,\n",
       " 'дом': <gensim.models.keyedvectors.Vocab at 0x7f0144567f10>,\n",
       " 'qukanacipr': <gensim.models.keyedvectors.Vocab at 0x7f01445676d0>,\n",
       " '2004': <gensim.models.keyedvectors.Vocab at 0x7f01445675e0>,\n",
       " 'жаба': <gensim.models.keyedvectors.Vocab at 0x7f01445672b0>,\n",
       " 'пришол': <gensim.models.keyedvectors.Vocab at 0x7f0144567280>,\n",
       " 'остаться': <gensim.models.keyedvectors.Vocab at 0x7f0144567fd0>,\n",
       " 'транспорт': <gensim.models.keyedvectors.Vocab at 0x7f0144567610>,\n",
       " 'правда': <gensim.models.keyedvectors.Vocab at 0x7f0144567820>,\n",
       " 'девчёнка': <gensim.models.keyedvectors.Vocab at 0x7f01445674f0>,\n",
       " 'писать': <gensim.models.keyedvectors.Vocab at 0x7f0144567790>,\n",
       " 'этна': <gensim.models.keyedvectors.Vocab at 0x7f0144567760>,\n",
       " 'счёт': <gensim.models.keyedvectors.Vocab at 0x7f0144567880>,\n",
       " 'момент': <gensim.models.keyedvectors.Vocab at 0x7f0144567250>,\n",
       " 'мальчик': <gensim.models.keyedvectors.Vocab at 0x7f01445679a0>,\n",
       " 'маньяк': <gensim.models.keyedvectors.Vocab at 0x7f0144567040>,\n",
       " 'ражик': <gensim.models.keyedvectors.Vocab at 0x7f0144567c10>,\n",
       " 'гладить': <gensim.models.keyedvectors.Vocab at 0x7f01445679d0>,\n",
       " 'рука': <gensim.models.keyedvectors.Vocab at 0x7f01445677c0>,\n",
       " 'феликс': <gensim.models.keyedvectors.Vocab at 0x7f0144567580>,\n",
       " 'httptcohgixks9ziz': <gensim.models.keyedvectors.Vocab at 0x7f01446b3700>,\n",
       " 'простонеудачик': <gensim.models.keyedvectors.Vocab at 0x7f01446b3490>,\n",
       " 'поцарапать': <gensim.models.keyedvectors.Vocab at 0x7f01446b3af0>,\n",
       " 'экран': <gensim.models.keyedvectors.Vocab at 0x7f01446b3070>,\n",
       " 'телефон': <gensim.models.keyedvectors.Vocab at 0x7f01446b3340>,\n",
       " 'хахаа': <gensim.models.keyedvectors.Vocab at 0x7f01446b36a0>,\n",
       " 'запомниться': <gensim.models.keyedvectors.Vocab at 0x7f01446b3b20>,\n",
       " 'надолго': <gensim.models.keyedvectors.Vocab at 0x7f01446b3c40>,\n",
       " 'httptcolkvqdbvrio': <gensim.models.keyedvectors.Vocab at 0x7f01446b3580>,\n",
       " 'leracookie': <gensim.models.keyedvectors.Vocab at 0x7f01446b3910>,\n",
       " 'красава': <gensim.models.keyedvectors.Vocab at 0x7f01446b39d0>,\n",
       " 'тебена': <gensim.models.keyedvectors.Vocab at 0x7f01446b3b50>,\n",
       " 'сомневаться': <gensim.models.keyedvectors.Vocab at 0x7f012447de80>,\n",
       " 'мартовский': <gensim.models.keyedvectors.Vocab at 0x7f012447d700>,\n",
       " 'путёвка': <gensim.models.keyedvectors.Vocab at 0x7f012447d550>,\n",
       " 'дорожать': <gensim.models.keyedvectors.Vocab at 0x7f012447d880>,\n",
       " 'глаз': <gensim.models.keyedvectors.Vocab at 0x7f012447d100>,\n",
       " 'пара': <gensim.models.keyedvectors.Vocab at 0x7f012447de20>,\n",
       " 'день': <gensim.models.keyedvectors.Vocab at 0x7f01b9887880>,\n",
       " '66': <gensim.models.keyedvectors.Vocab at 0x7f01b98879d0>,\n",
       " '86': <gensim.models.keyedvectors.Vocab at 0x7f01446ab130>,\n",
       " 'оо': <gensim.models.keyedvectors.Vocab at 0x7f006cea50a0>,\n",
       " 'natalya282': <gensim.models.keyedvectors.Vocab at 0x7f006cea58b0>,\n",
       " 'прошлый': <gensim.models.keyedvectors.Vocab at 0x7f006cea5b50>,\n",
       " 'месяц': <gensim.models.keyedvectors.Vocab at 0x7f006cea5280>,\n",
       " 'вообщен': <gensim.models.keyedvectors.Vocab at 0x7f006cea5370>,\n",
       " 'koreanbanan': <gensim.models.keyedvectors.Vocab at 0x7f006cea5400>,\n",
       " 'привет': <gensim.models.keyedvectors.Vocab at 0x7f01384bd1f0>,\n",
       " 'самый': <gensim.models.keyedvectors.Vocab at 0x7f01384bd2e0>,\n",
       " 'хороший': <gensim.models.keyedvectors.Vocab at 0x7f01384bdeb0>,\n",
       " 'друг': <gensim.models.keyedvectors.Vocab at 0x7f01384bd790>,\n",
       " 'извращенобольный': <gensim.models.keyedvectors.Vocab at 0x7f01384bd3d0>,\n",
       " 'фантазия': <gensim.models.keyedvectors.Vocab at 0x7f01384bd520>,\n",
       " 'придуотвечу333': <gensim.models.keyedvectors.Vocab at 0x7f01384bd3a0>,\n",
       " 'ladyshadow1': <gensim.models.keyedvectors.Vocab at 0x7f01384bdf40>,\n",
       " 'changachunga': <gensim.models.keyedvectors.Vocab at 0x7f01384bdc40>,\n",
       " 'придумать': <gensim.models.keyedvectors.Vocab at 0x7f01384bdc70>,\n",
       " 'новое': <gensim.models.keyedvectors.Vocab at 0x7f01384bd700>,\n",
       " 'tcsbank': <gensim.models.keyedvectors.Vocab at 0x7f014468abb0>,\n",
       " 'увеличение': <gensim.models.keyedvectors.Vocab at 0x7f01384e1430>,\n",
       " 'лимит': <gensim.models.keyedvectors.Vocab at 0x7f01384e1c70>,\n",
       " 'бесплатный': <gensim.models.keyedvectors.Vocab at 0x7f01384e18b0>,\n",
       " 'пополнение': <gensim.models.keyedvectors.Vocab at 0x7f01384e1f10>,\n",
       " 'сделать': <gensim.models.keyedvectors.Vocab at 0x7f01384e1970>,\n",
       " '0': <gensim.models.keyedvectors.Vocab at 0x7f01384e1700>,\n",
       " 'карта': <gensim.models.keyedvectors.Vocab at 0x7f01384e1760>,\n",
       " 'оставить': <gensim.models.keyedvectors.Vocab at 0x7f01384ca1f0>,\n",
       " '10': <gensim.models.keyedvectors.Vocab at 0x7f01384ca910>,\n",
       " 'simonenkoyulia': <gensim.models.keyedvectors.Vocab at 0x7f01384ca310>,\n",
       " 'anichkabudnik': <gensim.models.keyedvectors.Vocab at 0x7f01384ca790>,\n",
       " 'тожить': <gensim.models.keyedvectors.Vocab at 0x7f01384caa60>,\n",
       " 'лах': <gensim.models.keyedvectors.Vocab at 0x7f01384cadf0>,\n",
       " 'завтрана': <gensim.models.keyedvectors.Vocab at 0x7f0144690e80>,\n",
       " 'идти': <gensim.models.keyedvectors.Vocab at 0x7f01446909d0>,\n",
       " 'голован': <gensim.models.keyedvectors.Vocab at 0x7f0144690a60>,\n",
       " 'прекращать': <gensim.models.keyedvectors.Vocab at 0x7f0144690fd0>,\n",
       " 'болеть': <gensim.models.keyedvectors.Vocab at 0x7f0144690af0>,\n",
       " 'пойти': <gensim.models.keyedvectors.Vocab at 0x7f014467be20>,\n",
       " 'температурка': <gensim.models.keyedvectors.Vocab at 0x7f014467b670>,\n",
       " 'померия': <gensim.models.keyedvectors.Vocab at 0x7f014467b6a0>,\n",
       " 'крайне': <gensim.models.keyedvectors.Vocab at 0x7f014467bbb0>,\n",
       " 'культурный': <gensim.models.keyedvectors.Vocab at 0x7f014467b490>,\n",
       " 'разговорнезнакомый': <gensim.models.keyedvectors.Vocab at 0x7f014467b850>,\n",
       " 'человек': <gensim.models.keyedvectors.Vocab at 0x7f014467b7c0>,\n",
       " 'кузов': <gensim.models.keyedvectors.Vocab at 0x7f014467b9d0>,\n",
       " 'оцинковать': <gensim.models.keyedvectors.Vocab at 0x7f014467b970>,\n",
       " 'нуна': <gensim.models.keyedvectors.Vocab at 0x7f014467bca0>,\n",
       " 'знать': <gensim.models.keyedvectors.Vocab at 0x7f014467b130>,\n",
       " 'ойня': <gensim.models.keyedvectors.Vocab at 0x7f014467bb80>,\n",
       " 'пиздить': <gensim.models.keyedvectors.Vocab at 0x7f014467b8e0>,\n",
       " 'wylsacom': <gensim.models.keyedvectors.Vocab at 0x7f014467b220>,\n",
       " 'ios': <gensim.models.keyedvectors.Vocab at 0x7f014467b250>,\n",
       " '71': <gensim.models.keyedvectors.Vocab at 0x7f006cea38e0>,\n",
       " 'beta': <gensim.models.keyedvectors.Vocab at 0x7f006cea3a30>,\n",
       " '3не': <gensim.models.keyedvectors.Vocab at 0x7f006cea3430>,\n",
       " 'работать': <gensim.models.keyedvectors.Vocab at 0x7f006cea3760>,\n",
       " 'отмена': <gensim.models.keyedvectors.Vocab at 0x7f006cea3610>,\n",
       " 'встряхивание': <gensim.models.keyedvectors.Vocab at 0x7f006cea3670>,\n",
       " 'imessage': <gensim.models.keyedvectors.Vocab at 0x7f006cea3640>,\n",
       " 'австрия': <gensim.models.keyedvectors.Vocab at 0x7f006cea34f0>,\n",
       " 'ждеееть': <gensim.models.keyedvectors.Vocab at 0x7f006cea3250>,\n",
       " 'последний': <gensim.models.keyedvectors.Vocab at 0x7f006cea3280>,\n",
       " 'формальность': <gensim.models.keyedvectors.Vocab at 0x7f006cea3370>,\n",
       " 'уладить': <gensim.models.keyedvectors.Vocab at 0x7f006cea3af0>,\n",
       " 'паковать': <gensim.models.keyedvectors.Vocab at 0x7f006cea3340>,\n",
       " 'чемодан': <gensim.models.keyedvectors.Vocab at 0x7f01b98719d0>,\n",
       " 'edworianchikowa': <gensim.models.keyedvectors.Vocab at 0x7f01b9871c40>,\n",
       " 'одноклассник': <gensim.models.keyedvectors.Vocab at 0x7f006cea1400>,\n",
       " 'наней': <gensim.models.keyedvectors.Vocab at 0x7f006cea1970>,\n",
       " 'психанулон': <gensim.models.keyedvectors.Vocab at 0x7f006cea1610>,\n",
       " 'плакать': <gensim.models.keyedvectors.Vocab at 0x7f006cea1d90>,\n",
       " 'потомня': <gensim.models.keyedvectors.Vocab at 0x7f006cea1d30>,\n",
       " 'понимать': <gensim.models.keyedvectors.Vocab at 0x7f006cea19d0>,\n",
       " 'сразу': <gensim.models.keyedvectors.Vocab at 0x7f006cea1880>,\n",
       " '2': <gensim.models.keyedvectors.Vocab at 0x7f006cea18e0>,\n",
       " 'ставить': <gensim.models.keyedvectors.Vocab at 0x7f006cea1e20>,\n",
       " 'd': <gensim.models.keyedvectors.Vocab at 0x7f006cea1ca0>,\n",
       " 'happinessisne': <gensim.models.keyedvectors.Vocab at 0x7f006cea1c70>,\n",
       " 'парнит': <gensim.models.keyedvectors.Vocab at 0x7f006cea1e80>,\n",
       " 'понять': <gensim.models.keyedvectors.Vocab at 0x7f006cea1b50>,\n",
       " 'httptcojrbrl4q4h6': <gensim.models.keyedvectors.Vocab at 0x7f006cea17f0>,\n",
       " 'belibersteam': <gensim.models.keyedvectors.Vocab at 0x7f006cea1760>,\n",
       " 'оуовать': <gensim.models.keyedvectors.Vocab at 0x7f006cea15b0>,\n",
       " 'рада': <gensim.models.keyedvectors.Vocab at 0x7f006cea17c0>,\n",
       " 'тебяlt3': <gensim.models.keyedvectors.Vocab at 0x7f006cea1670>,\n",
       " 'ещеть': <gensim.models.keyedvectors.Vocab at 0x7f006cea1520>,\n",
       " 'продажа': <gensim.models.keyedvectors.Vocab at 0x7f006cea1430>,\n",
       " 'missufo': <gensim.models.keyedvectors.Vocab at 0x7f006cea1a90>,\n",
       " 'прогноз': <gensim.models.keyedvectors.Vocab at 0x7f006cea1b80>,\n",
       " 'погода': <gensim.models.keyedvectors.Vocab at 0x7f006cea1ee0>,\n",
       " 'ит': <gensim.models.keyedvectors.Vocab at 0x7f006cea1f10>,\n",
       " 'ближний': <gensim.models.keyedvectors.Vocab at 0x7f0144682790>,\n",
       " 'httptcohj6x0kyk8y': <gensim.models.keyedvectors.Vocab at 0x7f0144682d60>,\n",
       " 'uporotaya69': <gensim.models.keyedvectors.Vocab at 0x7f01446821f0>,\n",
       " 'allenscooter45': <gensim.models.keyedvectors.Vocab at 0x7f019c2bfa00>,\n",
       " 'сотрудничество': <gensim.models.keyedvectors.Vocab at 0x7f01446831c0>,\n",
       " 'положительный': <gensim.models.keyedvectors.Vocab at 0x7f0144683a30>,\n",
       " 'эмоция': <gensim.models.keyedvectors.Vocab at 0x7f0144683100>,\n",
       " 'компания': <gensim.models.keyedvectors.Vocab at 0x7f01384d26a0>,\n",
       " '«гриф»': <gensim.models.keyedvectors.Vocab at 0x7f01384d27f0>,\n",
       " 'дело': <gensim.models.keyedvectors.Vocab at 0x7f01384d2610>,\n",
       " 'anyasaharnaya': <gensim.models.keyedvectors.Vocab at 0x7f01384d2310>,\n",
       " 'savich': <gensim.models.keyedvectors.Vocab at 0x7f01384d2ac0>,\n",
       " 'красивый': <gensim.models.keyedvectors.Vocab at 0x7f01384d25b0>,\n",
       " 'мочь': <gensim.models.keyedvectors.Vocab at 0x7f01384d2340>,\n",
       " 'veselitter': <gensim.models.keyedvectors.Vocab at 0x7f01384d28b0>,\n",
       " 'пособие': <gensim.models.keyedvectors.Vocab at 0x7f01384d2550>,\n",
       " 'применение': <gensim.models.keyedvectors.Vocab at 0x7f01384d2880>,\n",
       " 'httptco6rtg4imxgz': <gensim.models.keyedvectors.Vocab at 0x7f01384d23a0>,\n",
       " 'начальница': <gensim.models.keyedvectors.Vocab at 0x7f01384d2670>,\n",
       " 'рассказывать': <gensim.models.keyedvectors.Vocab at 0x7f01384d2c10>,\n",
       " 'свадьба': <gensim.models.keyedvectors.Vocab at 0x7f01384d28e0>,\n",
       " 'минута': <gensim.models.keyedvectors.Vocab at 0x7f01384d26d0>,\n",
       " '20': <gensim.models.keyedvectors.Vocab at 0x7f01384d21c0>,\n",
       " 'чтоть': <gensim.models.keyedvectors.Vocab at 0x7f01384d2bb0>,\n",
       " 'впечатлиться': <gensim.models.keyedvectors.Vocab at 0x7f01384d2970>,\n",
       " 'найти': <gensim.models.keyedvectors.Vocab at 0x7f01384d29a0>,\n",
       " 'жених': <gensim.models.keyedvectors.Vocab at 0x7f01384d2be0>,\n",
       " 'гггггга': <gensim.models.keyedvectors.Vocab at 0x7f01384d2e80>,\n",
       " 'милаявсё': <gensim.models.keyedvectors.Vocab at 0x7f01384d2af0>,\n",
       " 'тайлера': <gensim.models.keyedvectors.Vocab at 0x7f01741ad5b0>,\n",
       " 'оч': <gensim.models.keyedvectors.Vocab at 0x7f01741adb50>,\n",
       " 'кластный': <gensim.models.keyedvectors.Vocab at 0x7f01741ad670>,\n",
       " 'foogrodary': <gensim.models.keyedvectors.Vocab at 0x7f01741ade50>,\n",
       " 'отец': <gensim.models.keyedvectors.Vocab at 0x7f01741ad460>,\n",
       " 'смотреть': <gensim.models.keyedvectors.Vocab at 0x7f0144559850>,\n",
       " 'какойтый': <gensim.models.keyedvectors.Vocab at 0x7f0144559640>,\n",
       " 'сериал': <gensim.models.keyedvectors.Vocab at 0x7f0144559fd0>,\n",
       " 'ржать': <gensim.models.keyedvectors.Vocab at 0x7f0144559d00>,\n",
       " 'мама': <gensim.models.keyedvectors.Vocab at 0x7f01445590a0>,\n",
       " 'он': <gensim.models.keyedvectors.Vocab at 0x7f0144559790>,\n",
       " 'спрашивать': <gensim.models.keyedvectors.Vocab at 0x7f0144559e20>,\n",
       " 'странный': <gensim.models.keyedvectors.Vocab at 0x7f01446b5d90>,\n",
       " 'делать': <gensim.models.keyedvectors.Vocab at 0x7f01446a49a0>,\n",
       " 'один': <gensim.models.keyedvectors.Vocab at 0x7f01446a41f0>,\n",
       " 'шаг': <gensim.models.keyedvectors.Vocab at 0x7f01446a4220>,\n",
       " 'обшарить': <gensim.models.keyedvectors.Vocab at 0x7f01446a4dc0>,\n",
       " 'квартира': <gensim.models.keyedvectors.Vocab at 0x7f01446a4160>,\n",
       " 'зажигалка': <gensim.models.keyedvectors.Vocab at 0x7f01446a4820>,\n",
       " 'пачка': <gensim.models.keyedvectors.Vocab at 0x7f01e6d9ae80>,\n",
       " 'сигарета': <gensim.models.keyedvectors.Vocab at 0x7f01244ad280>,\n",
       " 'выкинуть': <gensim.models.keyedvectors.Vocab at 0x7f01244ad9d0>,\n",
       " 'мусор': <gensim.models.keyedvectors.Vocab at 0x7f01244ad130>,\n",
       " 'подойти': <gensim.models.keyedvectors.Vocab at 0x7f01244ad6d0>,\n",
       " 'зеркало': <gensim.models.keyedvectors.Vocab at 0x7f01446a8f40>,\n",
       " 'погладить': <gensim.models.keyedvectors.Vocab at 0x7f01446a8280>,\n",
       " 'plawnik': <gensim.models.keyedvectors.Vocab at 0x7f01446a8ee0>,\n",
       " 'kolohui': <gensim.models.keyedvectors.Vocab at 0x7f01446a89a0>,\n",
       " 'продавать': <gensim.models.keyedvectors.Vocab at 0x7f01446a8cd0>,\n",
       " 'девайсын': <gensim.models.keyedvectors.Vocab at 0x7f01446a80a0>,\n",
       " 'любить': <gensim.models.keyedvectors.Vocab at 0x7f01446a8d00>,\n",
       " 'иня': <gensim.models.keyedvectors.Vocab at 0x7f01446a8220>,\n",
       " 'уметь': <gensim.models.keyedvectors.Vocab at 0x7f01446a8c70>,\n",
       " 'поэтому': <gensim.models.keyedvectors.Vocab at 0x7f01446a8190>,\n",
       " '152': <gensim.models.keyedvectors.Vocab at 0x7f01b9886a90>,\n",
       " 'подруга': <gensim.models.keyedvectors.Vocab at 0x7f01b98860a0>,\n",
       " 'отдавать': <gensim.models.keyedvectors.Vocab at 0x7f014468f700>,\n",
       " 'донашивать': <gensim.models.keyedvectors.Vocab at 0x7f014468f430>,\n",
       " 'заказ': <gensim.models.keyedvectors.Vocab at 0x7f014468fd00>,\n",
       " 'сорвалсянуть': <gensim.models.keyedvectors.Vocab at 0x7f014468f820>,\n",
       " 'точнона': <gensim.models.keyedvectors.Vocab at 0x7f014468fe50>,\n",
       " 'подарок': <gensim.models.keyedvectors.Vocab at 0x7f014468f160>,\n",
       " 'нг': <gensim.models.keyedvectors.Vocab at 0x7f014468fac0>,\n",
       " 'мнен': <gensim.models.keyedvectors.Vocab at 0x7f014468feb0>,\n",
       " 'везти': <gensim.models.keyedvectors.Vocab at 0x7f014468f610>,\n",
       " 'скучаююмнен': <gensim.models.keyedvectors.Vocab at 0x7f014468f340>,\n",
       " 'хватать': <gensim.models.keyedvectors.Vocab at 0x7f014468f1f0>,\n",
       " 'позитив': <gensim.models.keyedvectors.Vocab at 0x7f014468fa00>,\n",
       " 'kravchenkonasty': <gensim.models.keyedvectors.Vocab at 0x7f014468fd90>,\n",
       " 'echelonlovesfathers': <gensim.models.keyedvectors.Vocab at 0x7f014468f190>,\n",
       " 'слушать': <gensim.models.keyedvectors.Vocab at 0x7f014468f460>,\n",
       " 'рок': <gensim.models.keyedvectors.Vocab at 0x7f014468fee0>,\n",
       " 'ахи': <gensim.models.keyedvectors.Vocab at 0x7f014468fdf0>,\n",
       " 'прям': <gensim.models.keyedvectors.Vocab at 0x7f014468fc10>,\n",
       " 'следовать': <gensim.models.keyedvectors.Vocab at 0x7f014468f0a0>,\n",
       " 'лень': <gensim.models.keyedvectors.Vocab at 0x7f014468f730>,\n",
       " 'вставать': <gensim.models.keyedvectors.Vocab at 0x7f014468fa60>,\n",
       " 'ellievoyt': <gensim.models.keyedvectors.Vocab at 0x7f014468f070>,\n",
       " 'вроде': <gensim.models.keyedvectors.Vocab at 0x7f014468f2b0>,\n",
       " 'уний': <gensim.models.keyedvectors.Vocab at 0x7f014468f550>,\n",
       " 'получаетсячто': <gensim.models.keyedvectors.Vocab at 0x7f014468f9a0>,\n",
       " 'плохо': <gensim.models.keyedvectors.Vocab at 0x7f014468f910>,\n",
       " 'должный': <gensim.models.keyedvectors.Vocab at 0x7f014468f520>,\n",
       " 'выздоровить': <gensim.models.keyedvectors.Vocab at 0x7f014468f970>,\n",
       " 'обязательно': <gensim.models.keyedvectors.Vocab at 0x7f014468f640>,\n",
       " 'з': <gensim.models.keyedvectors.Vocab at 0x7f014468fdc0>,\n",
       " '2011': <gensim.models.keyedvectors.Vocab at 0x7f006ce97f10>,\n",
       " 'база': <gensim.models.keyedvectors.Vocab at 0x7f006ce97df0>,\n",
       " 'imdb': <gensim.models.keyedvectors.Vocab at 0x7f006ce97b50>,\n",
       " 'числиться': <gensim.models.keyedvectors.Vocab at 0x7f006ce97910>,\n",
       " '5760': <gensim.models.keyedvectors.Vocab at 0x7f006ce97c10>,\n",
       " 'название': <gensim.models.keyedvectors.Vocab at 0x7f006ce97f40>,\n",
       " 'krismysterylady': <gensim.models.keyedvectors.Vocab at 0x7f006ce97a60>,\n",
       " 'лохакрчать': <gensim.models.keyedvectors.Vocab at 0x7f006ce97fd0>,\n",
       " 'рисовать': <gensim.models.keyedvectors.Vocab at 0x7f006ce97af0>,\n",
       " 'думать': <gensim.models.keyedvectors.Vocab at 0x7f006ce97bb0>,\n",
       " 'сидеть': <gensim.models.keyedvectors.Vocab at 0x7f006ce97be0>,\n",
       " 'засыпать': <gensim.models.keyedvectors.Vocab at 0x7f006ce97d00>,\n",
       " 'политех': <gensim.models.keyedvectors.Vocab at 0x7f006ce97ac0>,\n",
       " 'автобус': <gensim.models.keyedvectors.Vocab at 0x7f006ce97fa0>,\n",
       " 'вокзал': <gensim.models.keyedvectors.Vocab at 0x7f006ce97e50>,\n",
       " 'троллейбус': <gensim.models.keyedvectors.Vocab at 0x7f006ce97ee0>,\n",
       " 'занелюди': <gensim.models.keyedvectors.Vocab at 0x7f006ce97c70>,\n",
       " 'заестись': <gensim.models.keyedvectors.Vocab at 0x7f006ce97b20>,\n",
       " 'подписаться': <gensim.models.keyedvectors.Vocab at 0x7f0174263ca0>,\n",
       " 'довольный': <gensim.models.keyedvectors.Vocab at 0x7f0174263070>,\n",
       " 'httptcomuqulrv5jk': <gensim.models.keyedvectors.Vocab at 0x7f01742631c0>,\n",
       " 'след': <gensim.models.keyedvectors.Vocab at 0x7f01742637f0>,\n",
       " 'красноглазик': <gensim.models.keyedvectors.Vocab at 0x7f0174263a60>,\n",
       " 'анальный': <gensim.models.keyedvectors.Vocab at 0x7f0174263c40>,\n",
       " 'огородиться': <gensim.models.keyedvectors.Vocab at 0x7f01742632e0>,\n",
       " 'пукнуль': <gensim.models.keyedvectors.Vocab at 0x7f0174263d30>,\n",
       " 'какашка': <gensim.models.keyedvectors.Vocab at 0x7f0174263b50>,\n",
       " 'радоваться': <gensim.models.keyedvectors.Vocab at 0x7f0174263e50>,\n",
       " 'убогий': <gensim.models.keyedvectors.Vocab at 0x7f0174263d60>,\n",
       " 'радость': <gensim.models.keyedvectors.Vocab at 0x7f0174263e80>,\n",
       " 'лентамд': <gensim.models.keyedvectors.Vocab at 0x7f0174263520>,\n",
       " 'окып': <gensim.models.keyedvectors.Vocab at 0x7f0174263400>,\n",
       " 'отырс': <gensim.models.keyedvectors.Vocab at 0x7f0174263a90>,\n",
       " 'коза': <gensim.models.keyedvectors.Vocab at 0x7f0174263940>,\n",
       " 'алдым': <gensim.models.keyedvectors.Vocab at 0x7f0174263850>,\n",
       " 'чат': <gensim.models.keyedvectors.Vocab at 0x7f0174263040>,\n",
       " 'елестеп': <gensim.models.keyedvectors.Vocab at 0x7f0174263dc0>,\n",
       " 'кетта': <gensim.models.keyedvectors.Vocab at 0x7f0174263160>,\n",
       " 'проснуться': <gensim.models.keyedvectors.Vocab at 0x7f0144556910>,\n",
       " 'уженета': <gensim.models.keyedvectors.Vocab at 0x7f01445565e0>,\n",
       " 'пустой': <gensim.models.keyedvectors.Vocab at 0x7f0144556e50>,\n",
       " 'httptcokdfwobf7es': <gensim.models.keyedvectors.Vocab at 0x7f0144556f40>,\n",
       " 'рецензия': <gensim.models.keyedvectors.Vocab at 0x7f0144556e20>,\n",
       " 'поход': <gensim.models.keyedvectors.Vocab at 0x7f0144556c10>,\n",
       " 'аватарневозможный': <gensim.models.keyedvectors.Vocab at 0x7f0144556610>,\n",
       " 'отказаться': <gensim.models.keyedvectors.Vocab at 0x7f0144556460>,\n",
       " 'купить': <gensim.models.keyedvectors.Vocab at 0x7f01445568b0>,\n",
       " 'билет': <gensim.models.keyedvectors.Vocab at 0x7f014469bf70>,\n",
       " 'золотой': <gensim.models.keyedvectors.Vocab at 0x7f014469b970>,\n",
       " 'вавилон': <gensim.models.keyedvectors.Vocab at 0x7f014469b3d0>,\n",
       " '2000': <gensim.models.keyedvectors.Vocab at 0x7f014469ba60>,\n",
       " 'karpenkodv': <gensim.models.keyedvectors.Vocab at 0x7f014469b160>,\n",
       " 'полный': <gensim.models.keyedvectors.Vocab at 0x7f014469ba30>,\n",
       " 'ахе': <gensim.models.keyedvectors.Vocab at 0x7f014469bfd0>,\n",
       " 'реально': <gensim.models.keyedvectors.Vocab at 0x7f014469b070>,\n",
       " 'больно': <gensim.models.keyedvectors.Vocab at 0x7f014469b490>,\n",
       " 'становиться': <gensim.models.keyedvectors.Vocab at 0x7f014469b340>,\n",
       " 'глядеть': <gensim.models.keyedvectors.Vocab at 0x7f014469b370>,\n",
       " 'leonkiller75': <gensim.models.keyedvectors.Vocab at 0x7f014469b2e0>,\n",
       " 'блин': <gensim.models.keyedvectors.Vocab at 0x7f014469b400>,\n",
       " 'жалко': <gensim.models.keyedvectors.Vocab at 0x7f014469bdf0>,\n",
       " 'плач': <gensim.models.keyedvectors.Vocab at 0x7f014469ba00>,\n",
       " 'tukvasociopat': <gensim.models.keyedvectors.Vocab at 0x7f014469bf40>,\n",
       " 'євромайдан': <gensim.models.keyedvectors.Vocab at 0x7f014469b700>,\n",
       " 'httptcokpmkwjaisn': <gensim.models.keyedvectors.Vocab at 0x7f014469b5e0>,\n",
       " 'bednyakko': <gensim.models.keyedvectors.Vocab at 0x7f014469b640>,\n",
       " 'прасти': <gensim.models.keyedvectors.Vocab at 0x7f01b987d430>,\n",
       " 'минь': <gensim.models.keyedvectors.Vocab at 0x7f01b987d9d0>,\n",
       " '999': <gensim.models.keyedvectors.Vocab at 0x7f01b987dca0>,\n",
       " 'маленький': <gensim.models.keyedvectors.Vocab at 0x7f006cea2e80>,\n",
       " 'засранец': <gensim.models.keyedvectors.Vocab at 0x7f006cea2550>,\n",
       " '99': <gensim.models.keyedvectors.Vocab at 0x7f006cea2af0>,\n",
       " 'мдапотеря': <gensim.models.keyedvectors.Vocab at 0x7f006cea2f10>,\n",
       " 'поистиненевосполнимый': <gensim.models.keyedvectors.Vocab at 0x7f006cea2b50>,\n",
       " 'ничегон': <gensim.models.keyedvectors.Vocab at 0x7f006cea2f70>,\n",
       " 'оставаться': <gensim.models.keyedvectors.Vocab at 0x7f006cea26d0>,\n",
       " 'стиснуть': <gensim.models.keyedvectors.Vocab at 0x7f006cea2790>,\n",
       " 'зуб': <gensim.models.keyedvectors.Vocab at 0x7f006cea25b0>,\n",
       " 'продолжить': <gensim.models.keyedvectors.Vocab at 0x7f0144566850>,\n",
       " 'жить': <gensim.models.keyedvectors.Vocab at 0x7f0144566c10>,\n",
       " 'болигрустиодиночество': <gensim.models.keyedvectors.Vocab at 0x7f0144566310>,\n",
       " 'тоска': <gensim.models.keyedvectors.Vocab at 0x7f01445667c0>,\n",
       " 'последниинеделя': <gensim.models.keyedvectors.Vocab at 0x7f01445661f0>,\n",
       " 'питаться': <gensim.models.keyedvectors.Vocab at 0x7f0144566e80>,\n",
       " 'сникерс': <gensim.models.keyedvectors.Vocab at 0x7f0144566880>,\n",
       " 'шоколадный': <gensim.models.keyedvectors.Vocab at 0x7f0144566370>,\n",
       " 'молоко': <gensim.models.keyedvectors.Vocab at 0x7f0144566100>,\n",
       " 'поесть': <gensim.models.keyedvectors.Vocab at 0x7f01445660d0>,\n",
       " 'ммм': <gensim.models.keyedvectors.Vocab at 0x7f0144566340>,\n",
       " 'предвкушать': <gensim.models.keyedvectors.Vocab at 0x7f0144566ee0>,\n",
       " 'ахах': <gensim.models.keyedvectors.Vocab at 0x7f0144566bb0>,\n",
       " 'vicocojambo': <gensim.models.keyedvectors.Vocab at 0x7f0144566d90>,\n",
       " 'dreamlalala': <gensim.models.keyedvectors.Vocab at 0x7f0144566c40>,\n",
       " 'жирух': <gensim.models.keyedvectors.Vocab at 0x7f0144566dc0>,\n",
       " 'жрать': <gensim.models.keyedvectors.Vocab at 0x7f0144566940>,\n",
       " 'ной': <gensim.models.keyedvectors.Vocab at 0x7f0144566190>,\n",
       " 'похудеть': <gensim.models.keyedvectors.Vocab at 0x7f0144566e50>,\n",
       " 'крайний': <gensim.models.keyedvectors.Vocab at 0x7f0144566700>,\n",
       " 'мера': <gensim.models.keyedvectors.Vocab at 0x7f0144566fa0>,\n",
       " 'десерт': <gensim.models.keyedvectors.Vocab at 0x7f01445668e0>,\n",
       " 'всегданедооценивать': <gensim.models.keyedvectors.Vocab at 0x7f01445665e0>,\n",
       " 'количество': <gensim.models.keyedvectors.Vocab at 0x7f0144566b80>,\n",
       " 'идиот': <gensim.models.keyedvectors.Vocab at 0x7f0144566d00>,\n",
       " 'окружать': <gensim.models.keyedvectors.Vocab at 0x7f0144566790>,\n",
       " 'swagfrolov': <gensim.models.keyedvectors.Vocab at 0x7f0144566220>,\n",
       " 'досмотреть': <gensim.models.keyedvectors.Vocab at 0x7f0144566040>,\n",
       " 'позж': <gensim.models.keyedvectors.Vocab at 0x7f01445669a0>,\n",
       " 'глянуть': <gensim.models.keyedvectors.Vocab at 0x7f0144566a00>,\n",
       " 'лекция': <gensim.models.keyedvectors.Vocab at 0x7f01446b1760>,\n",
       " 'шаронов': <gensim.models.keyedvectors.Vocab at 0x7f01446b17f0>,\n",
       " 'будетний': <gensim.models.keyedvectors.Vocab at 0x7f01446b1b20>,\n",
       " 'столько': <gensim.models.keyedvectors.Vocab at 0x7f01446b1370>,\n",
       " 'интересный': <gensim.models.keyedvectors.Vocab at 0x7f01446b1070>,\n",
       " 'рассказать': <gensim.models.keyedvectors.Vocab at 0x7f01446b1640>,\n",
       " 'irav': <gensim.models.keyedvectors.Vocab at 0x7f01446b1160>,\n",
       " 'причём': <gensim.models.keyedvectors.Vocab at 0x7f01446b1520>,\n",
       " 'фотка': <gensim.models.keyedvectors.Vocab at 0x7f01446b15e0>,\n",
       " 'вид': <gensim.models.keyedvectors.Vocab at 0x7f01446b1220>,\n",
       " 'кошка': <gensim.models.keyedvectors.Vocab at 0x7f01446b1550>,\n",
       " 'hillyperventina': <gensim.models.keyedvectors.Vocab at 0x7f01446b10a0>,\n",
       " 'наш': <gensim.models.keyedvectors.Vocab at 0x7f01446b1dc0>,\n",
       " 'глупый': <gensim.models.keyedvectors.Vocab at 0x7f01446b1b50>,\n",
       " 'менталитет': <gensim.models.keyedvectors.Vocab at 0x7f01446b1a00>,\n",
       " 'никто': <gensim.models.keyedvectors.Vocab at 0x7f00e52f28e0>,\n",
       " 'новогодний': <gensim.models.keyedvectors.Vocab at 0x7f00e52f29d0>,\n",
       " 'настроение': <gensim.models.keyedvectors.Vocab at 0x7f00e52f2d60>,\n",
       " 'простыть': <gensim.models.keyedvectors.Vocab at 0x7f00e52f2820>,\n",
       " 'норма': <gensim.models.keyedvectors.Vocab at 0x7f00e52f2940>,\n",
       " 'конец': <gensim.models.keyedvectors.Vocab at 0x7f00e52f2ca0>,\n",
       " 'четверть': <gensim.models.keyedvectors.Vocab at 0x7f00e52f2dc0>,\n",
       " 'тина': <gensim.models.keyedvectors.Vocab at 0x7f00e52f27f0>,\n",
       " 'выгнать': <gensim.models.keyedvectors.Vocab at 0x7f00e52f27c0>,\n",
       " 'наргиз': <gensim.models.keyedvectors.Vocab at 0x7f00e52f24c0>,\n",
       " 'крутой': <gensim.models.keyedvectors.Vocab at 0x7f00e52f2e50>,\n",
       " 'ванначто': <gensim.models.keyedvectors.Vocab at 0x7f00e52f28b0>,\n",
       " 'делатьза': <gensim.models.keyedvectors.Vocab at 0x7f00e52f2040>,\n",
       " 'полтора': <gensim.models.keyedvectors.Vocab at 0x7f00e52f2430>,\n",
       " 'дважды': <gensim.models.keyedvectors.Vocab at 0x7f00e52f2550>,\n",
       " 'присниться': <gensim.models.keyedvectors.Vocab at 0x7f00e52f2e80>,\n",
       " 'alvinkaa': <gensim.models.keyedvectors.Vocab at 0x7f00e52f2d00>,\n",
       " '3': <gensim.models.keyedvectors.Vocab at 0x7f00e52f2fa0>,\n",
       " 'книга': <gensim.models.keyedvectors.Vocab at 0x7f00e52f2f40>,\n",
       " 'читать': <gensim.models.keyedvectors.Vocab at 0x7f00e52f2a00>,\n",
       " 'норвежский': <gensim.models.keyedvectors.Vocab at 0x7f00e52f2880>,\n",
       " 'лес': <gensim.models.keyedvectors.Vocab at 0x7f00e52f2b20>,\n",
       " 'мурак': <gensim.models.keyedvectors.Vocab at 0x7f00e52f2ac0>,\n",
       " 'сумерки': <gensim.models.keyedvectors.Vocab at 0x7f00e52f2b80>,\n",
       " 'перечитывать': <gensim.models.keyedvectors.Vocab at 0x7f00e52f2be0>,\n",
       " 'барабанный': <gensim.models.keyedvectors.Vocab at 0x7f00e52f2580>,\n",
       " 'дробь': <gensim.models.keyedvectors.Vocab at 0x7f00e52f2400>,\n",
       " '50': <gensim.models.keyedvectors.Vocab at 0x7f00e52f2640>,\n",
       " 'оттенок': <gensim.models.keyedvectors.Vocab at 0x7f00e52f26a0>,\n",
       " 'серый': <gensim.models.keyedvectors.Vocab at 0x7f00e52f2700>,\n",
       " 'хдд': <gensim.models.keyedvectors.Vocab at 0x7f00e52f2760>,\n",
       " 'ikatzet': <gensim.models.keyedvectors.Vocab at 0x7f00e52f2130>,\n",
       " 'прийти': <gensim.models.keyedvectors.Vocab at 0x7f00e52f2220>,\n",
       " '8': <gensim.models.keyedvectors.Vocab at 0x7f00e52f21c0>,\n",
       " 'работа': <gensim.models.keyedvectors.Vocab at 0x7f00e52f2280>,\n",
       " 'уйти': <gensim.models.keyedvectors.Vocab at 0x7f00e52f22e0>,\n",
       " 'снеё': <gensim.models.keyedvectors.Vocab at 0x7f00e52f2df0>,\n",
       " '2230': <gensim.models.keyedvectors.Vocab at 0x7f00e52f2970>,\n",
       " 'согласиться': <gensim.models.keyedvectors.Vocab at 0x7f00e52f24f0>,\n",
       " 'насчёт': <gensim.models.keyedvectors.Vocab at 0x7f00e52f2070>,\n",
       " 'понедельник': <gensim.models.keyedvectors.Vocab at 0x7f00e52f2340>,\n",
       " 'larryswildsex': <gensim.models.keyedvectors.Vocab at 0x7f00e52d2430>,\n",
       " 'офигительный': <gensim.models.keyedvectors.Vocab at 0x7f00e52d2970>,\n",
       " 'оформление': <gensim.models.keyedvectors.Vocab at 0x7f00e52d2c70>,\n",
       " 'милый': <gensim.models.keyedvectors.Vocab at 0x7f00e52d2c10>,\n",
       " 'ихиха': <gensim.models.keyedvectors.Vocab at 0x7f00e52d2940>,\n",
       " 'littlegirlcat': <gensim.models.keyedvectors.Vocab at 0x7f00e52d2b20>,\n",
       " 'безумно': <gensim.models.keyedvectors.Vocab at 0x7f00e52d2bb0>,\n",
       " 'скучать': <gensim.models.keyedvectors.Vocab at 0x7f00e52d2370>,\n",
       " 'любимый': <gensim.models.keyedvectors.Vocab at 0x7f00e52d2340>,\n",
       " 'живописуетня': <gensim.models.keyedvectors.Vocab at 0x7f00e52d2ee0>,\n",
       " 'разгибаясьпредставляючто': <gensim.models.keyedvectors.Vocab at 0x7f00e52d2eb0>,\n",
       " 'дальшеещ': <gensim.models.keyedvectors.Vocab at 0x7f00e52d2df0>,\n",
       " 'долгушко': <gensim.models.keyedvectors.Vocab at 0x7f00e52d2ac0>,\n",
       " 'осталасьврод': <gensim.models.keyedvectors.Vocab at 0x7f00e52d2af0>,\n",
       " 'боулинг': <gensim.models.keyedvectors.Vocab at 0x7f00e52d2fd0>,\n",
       " 'сходить': <gensim.models.keyedvectors.Vocab at 0x7f00e52d2a90>,\n",
       " 'бесплатно': <gensim.models.keyedvectors.Vocab at 0x7f00e52d2310>,\n",
       " 'выходной': <gensim.models.keyedvectors.Vocab at 0x7f00e52d2e20>,\n",
       " 'teworalo': <gensim.models.keyedvectors.Vocab at 0x7f00e52d2d60>,\n",
       " 'еда': <gensim.models.keyedvectors.Vocab at 0x7f00e52d2f40>,\n",
       " 'покопаться': <gensim.models.keyedvectors.Vocab at 0x7f00e52d2520>,\n",
       " 'сервер': <gensim.models.keyedvectors.Vocab at 0x7f00e52d2e80>,\n",
       " 'wifi': <gensim.models.keyedvectors.Vocab at 0x7f00e52d2ca0>,\n",
       " 'точка': <gensim.models.keyedvectors.Vocab at 0x7f00e52d28b0>,\n",
       " 'имин': <gensim.models.keyedvectors.Vocab at 0x7f00e52d29a0>,\n",
       " 'пользоваться': <gensim.models.keyedvectors.Vocab at 0x7f00e52d27c0>,\n",
       " 'часы': <gensim.models.keyedvectors.Vocab at 0x7f00e52d27f0>,\n",
       " 'точно': <gensim.models.keyedvectors.Vocab at 0x7f00e52d2580>,\n",
       " 'просидеть': <gensim.models.keyedvectors.Vocab at 0x7f00e52d2220>,\n",
       " 'чувствовать': <gensim.models.keyedvectors.Vocab at 0x7f00e52d21f0>,\n",
       " 'королева': <gensim.models.keyedvectors.Vocab at 0x7f00e52d2040>,\n",
       " 'приходить': <gensim.models.keyedvectors.Vocab at 0x7f00e52d2070>,\n",
       " 'завтрак': <gensim.models.keyedvectors.Vocab at 0x7f00e52d26a0>,\n",
       " 'готовить': <gensim.models.keyedvectors.Vocab at 0x7f00e52d2160>,\n",
       " 'отдельно': <gensim.models.keyedvectors.Vocab at 0x7f00e52d2190>,\n",
       " 'большой': <gensim.models.keyedvectors.Vocab at 0x7f00e52d23a0>,\n",
       " 'шумный': <gensim.models.keyedvectors.Vocab at 0x7f00e52d2610>,\n",
       " 'заметить': <gensim.models.keyedvectors.Vocab at 0x7f00e52d2130>,\n",
       " 'victoriasantyнуть': <gensim.models.keyedvectors.Vocab at 0x7f00e52d2be0>,\n",
       " 'временинет': <gensim.models.keyedvectors.Vocab at 0x7f00e52d25e0>,\n",
       " 'ребек': <gensim.models.keyedvectors.Vocab at 0x7f00e52d2700>,\n",
       " 'ночьпровести': <gensim.models.keyedvectors.Vocab at 0x7f00e4e1b550>,\n",
       " 'снаян': <gensim.models.keyedvectors.Vocab at 0x7f00e4e1bfd0>,\n",
       " 'понимаюэтый': <gensim.models.keyedvectors.Vocab at 0x7f00e4e1bf40>,\n",
       " 'действовать': <gensim.models.keyedvectors.Vocab at 0x7f00e4e1b940>,\n",
       " 'саша': <gensim.models.keyedvectors.Vocab at 0x7f00e4e1b880>,\n",
       " 'офигенный': <gensim.models.keyedvectors.Vocab at 0x7f00e4e1b670>,\n",
       " 'испытание': <gensim.models.keyedvectors.Vocab at 0x7f00e4e1b9a0>,\n",
       " 'кладбище': <gensim.models.keyedvectors.Vocab at 0x7f00e4e1b850>,\n",
       " 'высота': <gensim.models.keyedvectors.Vocab at 0x7f00e4e1bbb0>,\n",
       " 'пройти': <gensim.models.keyedvectors.Vocab at 0x7f00e4e1b970>,\n",
       " 'правильно': <gensim.models.keyedvectors.Vocab at 0x7f00e4e1ba30>,\n",
       " 'стихия': <gensim.models.keyedvectors.Vocab at 0x7f00e4e1b730>,\n",
       " 'тяжёлый': <gensim.models.keyedvectors.Vocab at 0x7f00e4e1bac0>,\n",
       " 'выбор': <gensim.models.keyedvectors.Vocab at 0x7f00e4e1b7c0>,\n",
       " 'парикхмахерский': <gensim.models.keyedvectors.Vocab at 0x7f00e4e1ba60>,\n",
       " 'киноить': <gensim.models.keyedvectors.Vocab at 0x7f00e4e1b760>,\n",
       " 'rudolfponomarov': <gensim.models.keyedvectors.Vocab at 0x7f00e4e1b4f0>,\n",
       " 'история': <gensim.models.keyedvectors.Vocab at 0x7f00e4e1b490>,\n",
       " 'характерный': <gensim.models.keyedvectors.Vocab at 0x7f00e4e1b3a0>,\n",
       " 'ребёнок': <gensim.models.keyedvectors.Vocab at 0x7f00e4e1b340>,\n",
       " 'отвечать': <gensim.models.keyedvectors.Vocab at 0x7f00e4e1b100>,\n",
       " 'родитель': <gensim.models.keyedvectors.Vocab at 0x7f00e4e1b0a0>,\n",
       " 'coloredpanda': <gensim.models.keyedvectors.Vocab at 0x7f00e4e1bf10>,\n",
       " 'прекрасный': <gensim.models.keyedvectors.Vocab at 0x7f00e4e1bc70>,\n",
       " 'произойти': <gensim.models.keyedvectors.Vocab at 0x7f00e4e1bfa0>,\n",
       " 'obukhovamasha': <gensim.models.keyedvectors.Vocab at 0x7f00e4e1bc40>,\n",
       " 'скоро': <gensim.models.keyedvectors.Vocab at 0x7f00e4e1bca0>,\n",
       " 'новый': <gensim.models.keyedvectors.Vocab at 0x7f00e4e1bd00>,\n",
       " 'настроениянуть': <gensim.models.keyedvectors.Vocab at 0x7f00e4e1b040>,\n",
       " 'страдать': <gensim.models.keyedvectors.Vocab at 0x7f00e4e1b160>,\n",
       " 'брать': <gensim.models.keyedvectors.Vocab at 0x7f00e4e1b1c0>,\n",
       " 'труба': <gensim.models.keyedvectors.Vocab at 0x7f00e4e1b280>,\n",
       " 'шататьd': <gensim.models.keyedvectors.Vocab at 0x7f00e4e1b2e0>,\n",
       " '—': <gensim.models.keyedvectors.Vocab at 0x7f00e4e1b400>,\n",
       " 'послать': <gensim.models.keyedvectors.Vocab at 0x7f00e4e1b580>,\n",
       " 'httptcowssjv9nckg': <gensim.models.keyedvectors.Vocab at 0x7f00e4e1be50>,\n",
       " 'alexandrzenkin': <gensim.models.keyedvectors.Vocab at 0x7f00e4e1bb50>,\n",
       " 'всетаки': <gensim.models.keyedvectors.Vocab at 0x7f00e4e1b610>,\n",
       " 'мёд': <gensim.models.keyedvectors.Vocab at 0x7f00e4e1bdf0>,\n",
       " 'учиться': <gensim.models.keyedvectors.Vocab at 0x7f00e4e1b8e0>,\n",
       " 'врач': <gensim.models.keyedvectors.Vocab at 0x7f00e4e1bee0>,\n",
       " 'ана': <gensim.models.keyedvectors.Vocab at 0x7f006ce834f0>,\n",
       " 'коготь': <gensim.models.keyedvectors.Vocab at 0x7f006ce833a0>,\n",
       " 'тамнефтяник': <gensim.models.keyedvectors.Vocab at 0x7f006ce830d0>,\n",
       " 'ужена': <gensim.models.keyedvectors.Vocab at 0x7f006ce83040>,\n",
       " 'httptcoemxrvljdkx': <gensim.models.keyedvectors.Vocab at 0x7f00e52cea60>,\n",
       " 'вика': <gensim.models.keyedvectors.Vocab at 0x7f00e52ce670>,\n",
       " 'шарик': <gensim.models.keyedvectors.Vocab at 0x7f00e52ce850>,\n",
       " 'розовый': <gensim.models.keyedvectors.Vocab at 0x7f00e52ce8e0>,\n",
       " 'подарить': <gensim.models.keyedvectors.Vocab at 0x7f00e52cea30>,\n",
       " 'теплавсё': <gensim.models.keyedvectors.Vocab at 0x7f00e52cee80>,\n",
       " 'прилично': <gensim.models.keyedvectors.Vocab at 0x7f00e52ceb80>,\n",
       " 'rysj108': <gensim.models.keyedvectors.Vocab at 0x7f00e52cee20>,\n",
       " 'приветик': <gensim.models.keyedvectors.Vocab at 0x7f00e52ced90>,\n",
       " 'пёс': <gensim.models.keyedvectors.Vocab at 0x7f00e52ceb50>,\n",
       " 'клевый': <gensim.models.keyedvectors.Vocab at 0x7f00e52ceac0>,\n",
       " 'bass85lisa': <gensim.models.keyedvectors.Vocab at 0x7f00e52ce4f0>,\n",
       " 'dmaijac': <gensim.models.keyedvectors.Vocab at 0x7f00e52ce760>,\n",
       " 'valy753': <gensim.models.keyedvectors.Vocab at 0x7f00e52cea90>,\n",
       " 'zolotuhin28': <gensim.models.keyedvectors.Vocab at 0x7f00e52cec10>,\n",
       " 'emstiru': <gensim.models.keyedvectors.Vocab at 0x7f00e52cef40>,\n",
       " 'shkito': <gensim.models.keyedvectors.Vocab at 0x7f00e52ce910>,\n",
       " 'abeli4': <gensim.models.keyedvectors.Vocab at 0x7f00e52cedc0>,\n",
       " 'podvincevaa': <gensim.models.keyedvectors.Vocab at 0x7f00e52ce3d0>,\n",
       " 'предложить': <gensim.models.keyedvectors.Vocab at 0x7f00e52ce5b0>,\n",
       " 'какой': <gensim.models.keyedvectors.Vocab at 0x7f00e52cecd0>,\n",
       " 'музыка': <gensim.models.keyedvectors.Vocab at 0x7f00e52ce730>,\n",
       " 'меломан': <gensim.models.keyedvectors.Vocab at 0x7f00e52cefa0>,\n",
       " 'httptcogoy9iaf0pu': <gensim.models.keyedvectors.Vocab at 0x7f00e52ce4c0>,\n",
       " 'lambliff': <gensim.models.keyedvectors.Vocab at 0x7f00e52ce310>,\n",
       " 'варнинга': <gensim.models.keyedvectors.Vocab at 0x7f00e52ce550>,\n",
       " 'видео': <gensim.models.keyedvectors.Vocab at 0x7f00e52ce070>,\n",
       " 'ходить': <gensim.models.keyedvectors.Vocab at 0x7f00e52ce2b0>,\n",
       " 'мысленно': <gensim.models.keyedvectors.Vocab at 0x7f00e52ce940>,\n",
       " 'расставлять': <gensim.models.keyedvectors.Vocab at 0x7f00e52ce790>,\n",
       " 'миска': <gensim.models.keyedvectors.Vocab at 0x7f00e52ce7c0>,\n",
       " 'подстилка': <gensim.models.keyedvectors.Vocab at 0x7f00e52ce520>,\n",
       " 'lizaveta94': <gensim.models.keyedvectors.Vocab at 0x7f00e52ce250>,\n",
       " 'mariyamalishewa': <gensim.models.keyedvectors.Vocab at 0x7f00e52ce370>,\n",
       " 'милость': <gensim.models.keyedvectors.Vocab at 0x7f00e52ce040>,\n",
       " 'запомнить': <gensim.models.keyedvectors.Vocab at 0x7f00e52ce0a0>,\n",
       " 'lakentwolfsanch': <gensim.models.keyedvectors.Vocab at 0x7f00e52cefd0>,\n",
       " 'киана': <gensim.models.keyedvectors.Vocab at 0x7f00e52ce9d0>,\n",
       " 'присылать': <gensim.models.keyedvectors.Vocab at 0x7f00e52ce700>,\n",
       " 'порет': <gensim.models.keyedvectors.Vocab at 0x7f00e52ce430>,\n",
       " 'хаммера': <gensim.models.keyedvectors.Vocab at 0x7f00e52ce130>,\n",
       " 'сойти': <gensim.models.keyedvectors.Vocab at 0x7f006ceaeaf0>,\n",
       " 'конвеер': <gensim.models.keyedvectors.Vocab at 0x7f006ceaef70>,\n",
       " 'единственный': <gensim.models.keyedvectors.Vocab at 0x7f006ceae4f0>,\n",
       " 'экземпляр': <gensim.models.keyedvectors.Vocab at 0x7f006ceaecd0>,\n",
       " 'найтись': <gensim.models.keyedvectors.Vocab at 0x7f006ceaec70>,\n",
       " 'миллиардер': <gensim.models.keyedvectors.Vocab at 0x7f006ceae100>,\n",
       " 'выкупить': <gensim.models.keyedvectors.Vocab at 0x7f006ceae250>,\n",
       " 'httptcoi7drruvto2': <gensim.models.keyedvectors.Vocab at 0x7f006ceaea00>,\n",
       " 'myatovaalina': <gensim.models.keyedvectors.Vocab at 0x7f006ceaebe0>,\n",
       " 'пляжочень': <gensim.models.keyedvectors.Vocab at 0x7f006ceae910>,\n",
       " 'обиднобедный': <gensim.models.keyedvectors.Vocab at 0x7f006ceae280>,\n",
       " 'siri': <gensim.models.keyedvectors.Vocab at 0x7f006ceaeb50>,\n",
       " 'alishka163': <gensim.models.keyedvectors.Vocab at 0x7f006ceae8b0>,\n",
       " 'днём': <gensim.models.keyedvectors.Vocab at 0x7f006ceae460>,\n",
       " 'рождение': <gensim.models.keyedvectors.Vocab at 0x7f006ceae790>,\n",
       " 'простить': <gensim.models.keyedvectors.Vocab at 0x7f006ceae400>,\n",
       " 'чтоня': <gensim.models.keyedvectors.Vocab at 0x7f006ceae520>,\n",
       " 'поздравить': <gensim.models.keyedvectors.Vocab at 0x7f006ceae490>,\n",
       " 'лично': <gensim.models.keyedvectors.Vocab at 0x7f006ceaea90>,\n",
       " '❤️❤️❤️': <gensim.models.keyedvectors.Vocab at 0x7f006ceae880>,\n",
       " 'деточка': <gensim.models.keyedvectors.Vocab at 0x7f006ceaed00>,\n",
       " 'фильм': <gensim.models.keyedvectors.Vocab at 0x7f006ceaed30>,\n",
       " 'респект': <gensim.models.keyedvectors.Vocab at 0x7f006ceae220>,\n",
       " 'десть': <gensim.models.keyedvectors.Vocab at 0x7f006ceaefd0>,\n",
       " 'вадь': <gensim.models.keyedvectors.Vocab at 0x7f006ceaee50>,\n",
       " 'мент': <gensim.models.keyedvectors.Vocab at 0x7f006ceaeeb0>,\n",
       " 'африка': <gensim.models.keyedvectors.Vocab at 0x7f006ceaefa0>,\n",
       " 'держаться': <gensim.models.keyedvectors.Vocab at 0x7f006ceaec10>,\n",
       " 'тёплый': <gensim.models.keyedvectors.Vocab at 0x7f006ceae730>,\n",
       " 'местечко': <gensim.models.keyedvectors.Vocab at 0x7f006ceae6d0>,\n",
       " 'подрезать': <gensim.models.keyedvectors.Vocab at 0x7f006ceae7c0>,\n",
       " 'крыло': <gensim.models.keyedvectors.Vocab at 0x7f006ceaedc0>,\n",
       " 'instantfollowback': <gensim.models.keyedvectors.Vocab at 0x7f006ceaea30>,\n",
       " 'ffru': <gensim.models.keyedvectors.Vocab at 0x7f00c6fd73d0>,\n",
       " 'чудесный': <gensim.models.keyedvectors.Vocab at 0x7f00c6fd7a90>,\n",
       " 'каникулыочень': <gensim.models.keyedvectors.Vocab at 0x7f00c6fd73a0>,\n",
       " 'вмести': <gensim.models.keyedvectors.Vocab at 0x7f00c6fd7670>,\n",
       " '30': <gensim.models.keyedvectors.Vocab at 0x7f00c6fd7f70>,\n",
       " 'seconds': <gensim.models.keyedvectors.Vocab at 0x7f00c6fd7e50>,\n",
       " 'to': <gensim.models.keyedvectors.Vocab at 0x7f00c6fd76a0>,\n",
       " 'mars': <gensim.models.keyedvectors.Vocab at 0x7f00c6fd78b0>,\n",
       " 'хочупровестиновогоднююночьва': <gensim.models.keyedvectors.Vocab at 0x7f00c6fd7af0>,\n",
       " 'сказалачто': <gensim.models.keyedvectors.Vocab at 0x7f00c6fd7b50>,\n",
       " 'вонять': <gensim.models.keyedvectors.Vocab at 0x7f00c6fd7610>,\n",
       " 'водка': <gensim.models.keyedvectors.Vocab at 0x7f00c6fd7760>,\n",
       " 'машина': <gensim.models.keyedvectors.Vocab at 0x7f00c6fd7730>,\n",
       " 'папахотетьня': <gensim.models.keyedvectors.Vocab at 0x7f00c6fd7880>,\n",
       " 'вредный': <gensim.models.keyedvectors.Vocab at 0x7f00c6fd7bb0>,\n",
       " 'фото': <gensim.models.keyedvectors.Vocab at 0x7f00c6fd7e80>,\n",
       " 'олень': <gensim.models.keyedvectors.Vocab at 0x7f00c6fd7280>,\n",
       " 'httptcok6ney5o76t': <gensim.models.keyedvectors.Vocab at 0x7f00c6fd7910>,\n",
       " 'говорят': <gensim.models.keyedvectors.Vocab at 0x7f00c6fd7c40>,\n",
       " 'встретить': <gensim.models.keyedvectors.Vocab at 0x7f00c6fd7d00>,\n",
       " 'проведёшьня': <gensim.models.keyedvectors.Vocab at 0x7f00c6fd7970>,\n",
       " 'надеяться': <gensim.models.keyedvectors.Vocab at 0x7f00c6fd7c10>,\n",
       " 'плохой': <gensim.models.keyedvectors.Vocab at 0x7f00c6fd7070>,\n",
       " 'irunygam': <gensim.models.keyedvectors.Vocab at 0x7f00c6fd7ca0>,\n",
       " 'тяжело': <gensim.models.keyedvectors.Vocab at 0x7f00c6fd7850>,\n",
       " 'переживать': <gensim.models.keyedvectors.Vocab at 0x7f00c6fd7fd0>,\n",
       " 'расставание': <gensim.models.keyedvectors.Vocab at 0x7f00c6fd7a30>,\n",
       " 'эмоциональнрый': <gensim.models.keyedvectors.Vocab at 0x7f00c6fd7040>,\n",
       " 'shygossipgirl': <gensim.models.keyedvectors.Vocab at 0x7f00c6fd74c0>,\n",
       " 'alwaysbelievef': <gensim.models.keyedvectors.Vocab at 0x7f00c6fd74f0>,\n",
       " 'ахахи': <gensim.models.keyedvectors.Vocab at 0x7f00c6fd76d0>,\n",
       " 'женииться': <gensim.models.keyedvectors.Vocab at 0x7f00c6fd7100>,\n",
       " 'dd': <gensim.models.keyedvectors.Vocab at 0x7f00c6fd70d0>,\n",
       " 'точняк': <gensim.models.keyedvectors.Vocab at 0x7f00c6fd77f0>,\n",
       " 'енхв': <gensim.models.keyedvectors.Vocab at 0x7f00c6fd7b80>,\n",
       " 'жи': <gensim.models.keyedvectors.Vocab at 0x7f00c6fd7340>,\n",
       " 'йоу': <gensim.models.keyedvectors.Vocab at 0x7f00c6fd7250>,\n",
       " 'дать': <gensim.models.keyedvectors.Vocab at 0x7f00c6fd7130>,\n",
       " 'пятюня': <gensim.models.keyedvectors.Vocab at 0x7f00c6fd7580>,\n",
       " 'именана': <gensim.models.keyedvectors.Vocab at 0x7f00c6fd7370>,\n",
       " 'запоминать': <gensim.models.keyedvectors.Vocab at 0x7f00c6fd72e0>,\n",
       " 'olyaaberyaseva': <gensim.models.keyedvectors.Vocab at 0x7f01b409cf40>,\n",
       " 'стать': <gensim.models.keyedvectors.Vocab at 0x7f01b409ce50>,\n",
       " 'учить': <gensim.models.keyedvectors.Vocab at 0x7f00e4e28b20>,\n",
       " 'сон': <gensim.models.keyedvectors.Vocab at 0x7f00e4e281c0>,\n",
       " 'мамуля': <gensim.models.keyedvectors.Vocab at 0x7f00e4e28820>,\n",
       " 'трудиться': <gensim.models.keyedvectors.Vocab at 0x7f00e4e28d30>,\n",
       " 'съёмка': <gensim.models.keyedvectors.Vocab at 0x7f00e4e28610>,\n",
       " 'телеканал': <gensim.models.keyedvectors.Vocab at 0x7f00e4e28fa0>,\n",
       " '11': <gensim.models.keyedvectors.Vocab at 0x7f00e4e28f70>,\n",
       " 'проект': <gensim.models.keyedvectors.Vocab at 0x7f00e4e28e50>,\n",
       " 'семья': <gensim.models.keyedvectors.Vocab at 0x7f00e4e28a00>,\n",
       " 'coming': <gensim.models.keyedvectors.Vocab at 0x7f00e4e28580>,\n",
       " 'soon\\ue405': <gensim.models.keyedvectors.Vocab at 0x7f00e4e28b50>,\n",
       " 'янеустаюжить…': <gensim.models.keyedvectors.Vocab at 0x7f00e4e28ac0>,\n",
       " 'httptcokzouew2w0o': <gensim.models.keyedvectors.Vocab at 0x7f00e4e28be0>,\n",
       " 'даша': <gensim.models.keyedvectors.Vocab at 0x7f00e4e28c40>,\n",
       " 'забрать': <gensim.models.keyedvectors.Vocab at 0x7f00e4e284f0>,\n",
       " 'витаминк': <gensim.models.keyedvectors.Vocab at 0x7f00e4e28400>,\n",
       " 'продолжение': <gensim.models.keyedvectors.Vocab at 0x7f00e4e28640>,\n",
       " 'мой': <gensim.models.keyedvectors.Vocab at 0x7f00e4e285e0>,\n",
       " '33': <gensim.models.keyedvectors.Vocab at 0x7f00e4e286d0>,\n",
       " 'аааам': <gensim.models.keyedvectors.Vocab at 0x7f00e4e28730>,\n",
       " 'камозь': <gensim.models.keyedvectors.Vocab at 0x7f00e4e283a0>,\n",
       " 'разговор': <gensim.models.keyedvectors.Vocab at 0x7f00e4e28280>,\n",
       " 'душа': <gensim.models.keyedvectors.Vocab at 0x7f00e4e28220>,\n",
       " 'короче': <gensim.models.keyedvectors.Vocab at 0x7f00e4e28040>,\n",
       " 'компень': <gensim.models.keyedvectors.Vocab at 0x7f00e4e28e80>,\n",
       " 'заходить': <gensim.models.keyedvectors.Vocab at 0x7f00e4e28970>,\n",
       " 'вконтакте': <gensim.models.keyedvectors.Vocab at 0x7f00e4e28460>,\n",
       " 'заказать': <gensim.models.keyedvectors.Vocab at 0x7f00e4e282e0>,\n",
       " 'отражатель': <gensim.models.keyedvectors.Vocab at 0x7f00e4e280a0>,\n",
       " 'светорассеиватель': <gensim.models.keyedvectors.Vocab at 0x7f00e4e28f40>,\n",
       " 'trolcontrol': <gensim.models.keyedvectors.Vocab at 0x7f00e4e28190>,\n",
       " 'бесить': <gensim.models.keyedvectors.Vocab at 0x7f00e4e28130>,\n",
       " 'срать': <gensim.models.keyedvectors.Vocab at 0x7f00e4e288b0>,\n",
       " 'чужое': <gensim.models.keyedvectors.Vocab at 0x7f00e4e28340>,\n",
       " 'мнение': <gensim.models.keyedvectors.Vocab at 0x7f00e4e287f0>,\n",
       " 'insidesunset': <gensim.models.keyedvectors.Vocab at 0x7f00e4e288e0>,\n",
       " 'бляреейный': <gensim.models.keyedvectors.Vocab at 0x7f00e4e28dc0>,\n",
       " 'говорить': <gensim.models.keyedvectors.Vocab at 0x7f00e4e284c0>,\n",
       " 'аааня': <gensim.models.keyedvectors.Vocab at 0x7f00e4e28cd0>,\n",
       " 'школа': <gensim.models.keyedvectors.Vocab at 0x7f00e4e28df0>,\n",
       " 'скучно': <gensim.models.keyedvectors.Vocab at 0x7f00e4e28a30>,\n",
       " 'httptco6rxn1o1res': <gensim.models.keyedvectors.Vocab at 0x7f00e4e289d0>,\n",
       " 'hotejavetifo': <gensim.models.keyedvectors.Vocab at 0x7f00e52c40d0>,\n",
       " 'увидеть': <gensim.models.keyedvectors.Vocab at 0x7f00e52c4eb0>,\n",
       " 'сонно': <gensim.models.keyedvectors.Vocab at 0x7f00e52c4820>,\n",
       " 'заставить': <gensim.models.keyedvectors.Vocab at 0x7f00e52c4310>,\n",
       " 'задуматься': <gensim.models.keyedvectors.Vocab at 0x7f00e52c44f0>,\n",
       " 'ждать': <gensim.models.keyedvectors.Vocab at 0x7f00e52c4580>,\n",
       " 'очередь': <gensim.models.keyedvectors.Vocab at 0x7f00e52c4f70>,\n",
       " 'рановстать': <gensim.models.keyedvectors.Vocab at 0x7f00e52c4fd0>,\n",
       " 'хочуспать': <gensim.models.keyedvectors.Vocab at 0x7f00e52c4e80>,\n",
       " 'больница': <gensim.models.keyedvectors.Vocab at 0x7f00e52c4d90>,\n",
       " 'право': <gensim.models.keyedvectors.Vocab at 0x7f00e52c4dc0>,\n",
       " 'вождение': <gensim.models.keyedvectors.Vocab at 0x7f00e52c4d60>,\n",
       " 'httptcooerdyljhz8': <gensim.models.keyedvectors.Vocab at 0x7f00e52c4e50>,\n",
       " 'вокал': <gensim.models.keyedvectors.Vocab at 0x7f00e52c4040>,\n",
       " 'вызывать': <gensim.models.keyedvectors.Vocab at 0x7f00e52c46d0>,\n",
       " 'чёткий': <gensim.models.keyedvectors.Vocab at 0x7f00e52c4670>,\n",
       " 'ассоциация': <gensim.models.keyedvectors.Vocab at 0x7f00e52c47c0>,\n",
       " 'с…': <gensim.models.keyedvectors.Vocab at 0x7f00e52c4760>,\n",
       " 'наутилус': <gensim.models.keyedvectors.Vocab at 0x7f00e52c48b0>,\n",
       " 'oo': <gensim.models.keyedvectors.Vocab at 0x7f00e52c4850>,\n",
       " 'сотня': <gensim.models.keyedvectors.Vocab at 0x7f00e52c49a0>,\n",
       " 'фотография': <gensim.models.keyedvectors.Vocab at 0x7f00e52c4940>,\n",
       " 'выкладывать': <gensim.models.keyedvectors.Vocab at 0x7f00e52c4a90>,\n",
       " 'тольконесколько': <gensim.models.keyedvectors.Vocab at 0x7f00e52c4a30>,\n",
       " 'шампанский': <gensim.models.keyedvectors.Vocab at 0x7f00e52c4b80>,\n",
       " 'прийтись': <gensim.models.keyedvectors.Vocab at 0x7f00e52c4b20>,\n",
       " 'вино': <gensim.models.keyedvectors.Vocab at 0x7f00e52c4c70>,\n",
       " 'karlmarxmusic': <gensim.models.keyedvectors.Vocab at 0x7f00e52c4c10>,\n",
       " 'japyknul': <gensim.models.keyedvectors.Vocab at 0x7f00e52c4520>,\n",
       " 'наеееебать': <gensim.models.keyedvectors.Vocab at 0x7f00e52c4d00>,\n",
       " 'банюня': <gensim.models.keyedvectors.Vocab at 0x7f00e52c4160>,\n",
       " 'уехать': <gensim.models.keyedvectors.Vocab at 0x7f00e52c45b0>,\n",
       " 'измениться': <gensim.models.keyedvectors.Vocab at 0x7f00e52c41c0>,\n",
       " 'типерь': <gensim.models.keyedvectors.Vocab at 0x7f00e52c4100>,\n",
       " 'всигда': <gensim.models.keyedvectors.Vocab at 0x7f00e52c42b0>,\n",
       " 'твиибо': <gensim.models.keyedvectors.Vocab at 0x7f00e52c4250>,\n",
       " 'блядошкола': <gensim.models.keyedvectors.Vocab at 0x7f00e52c43a0>,\n",
       " 'вайфайd': <gensim.models.keyedvectors.Vocab at 0x7f00e52c4340>,\n",
       " 'httptcofy1px5jrpn': <gensim.models.keyedvectors.Vocab at 0x7f00e52c4490>,\n",
       " 'снимать': <gensim.models.keyedvectors.Vocab at 0x7f00e52c4430>,\n",
       " 'клавиш': <gensim.models.keyedvectors.Vocab at 0x7f00e4e13070>,\n",
       " 'клавиатура': <gensim.models.keyedvectors.Vocab at 0x7f00e4e13040>,\n",
       " 'ноутбук': <gensim.models.keyedvectors.Vocab at 0x7f00e4e13130>,\n",
       " 'бля': <gensim.models.keyedvectors.Vocab at 0x7f00e4e13190>,\n",
       " 'обратно': <gensim.models.keyedvectors.Vocab at 0x7f00e4e132e0>,\n",
       " 'вставлять': <gensim.models.keyedvectors.Vocab at 0x7f00e4e131f0>,\n",
       " 'заполнять': <gensim.models.keyedvectors.Vocab at 0x7f00e4e13340>,\n",
       " 'анкетка': <gensim.models.keyedvectors.Vocab at 0x7f00e4e13250>,\n",
       " 'котра': <gensim.models.keyedvectors.Vocab at 0x7f00e4e133a0>,\n",
       " 'каждый': <gensim.models.keyedvectors.Vocab at 0x7f00e4e133d0>,\n",
       " 'класс': <gensim.models.keyedvectors.Vocab at 0x7f00e4e13430>,\n",
       " 'весело': <gensim.models.keyedvectors.Vocab at 0x7f00e4e13490>,\n",
       " 'санин': <gensim.models.keyedvectors.Vocab at 0x7f00e4e134f0>,\n",
       " 'жопа': <gensim.models.keyedvectors.Vocab at 0x7f00e4e13550>,\n",
       " 'написать': <gensim.models.keyedvectors.Vocab at 0x7f00e4e135b0>,\n",
       " 'колосня': <gensim.models.keyedvectors.Vocab at 0x7f00e4e13610>,\n",
       " 'пидора': <gensim.models.keyedvectors.Vocab at 0x7f00e4e13670>,\n",
       " 'машинка': <gensim.models.keyedvectors.Vocab at 0x7f00e4e136d0>,\n",
       " 'лёд': <gensim.models.keyedvectors.Vocab at 0x7f00e4e13730>,\n",
       " 'гоняться': <gensim.models.keyedvectors.Vocab at 0x7f00e4e13790>,\n",
       " 'france': <gensim.models.keyedvectors.Vocab at 0x7f00e4e137f0>,\n",
       " 'race': <gensim.models.keyedvectors.Vocab at 0x7f00e4e13850>,\n",
       " 'valthorens': <gensim.models.keyedvectors.Vocab at 0x7f00e4e138b0>,\n",
       " 'thorens': <gensim.models.keyedvectors.Vocab at 0x7f00e4e13910>,\n",
       " 'ice': <gensim.models.keyedvectors.Vocab at 0x7f00e4e13970>,\n",
       " 'snow…': <gensim.models.keyedvectors.Vocab at 0x7f00e4e139d0>,\n",
       " 'httptcoadagoamvgv': <gensim.models.keyedvectors.Vocab at 0x7f00e4e13a30>,\n",
       " 'brianmolkooff': <gensim.models.keyedvectors.Vocab at 0x7f00e4e13a90>,\n",
       " 'отчаянный': <gensim.models.keyedvectors.Vocab at 0x7f00e4e13af0>,\n",
       " 'httptcou4fuwexaas': <gensim.models.keyedvectors.Vocab at 0x7f00e4e13b50>,\n",
       " 'newaviator': <gensim.models.keyedvectors.Vocab at 0x7f00e4e13bb0>,\n",
       " 'отрезать': <gensim.models.keyedvectors.Vocab at 0x7f00e4e13c10>,\n",
       " 'тебян': <gensim.models.keyedvectors.Vocab at 0x7f00e4e13c70>,\n",
       " 'ретвитнуть': <gensim.models.keyedvectors.Vocab at 0x7f00e4e13cd0>,\n",
       " 'воровать': <gensim.models.keyedvectors.Vocab at 0x7f00e4e13d30>,\n",
       " 'catherineeeeettнуть': <gensim.models.keyedvectors.Vocab at 0x7f00e4e13d90>,\n",
       " 'gtd': <gensim.models.keyedvectors.Vocab at 0x7f00e4e13df0>,\n",
       " 'парик': <gensim.models.keyedvectors.Vocab at 0x7f00e4e13e50>,\n",
       " 'покупаюань': <gensim.models.keyedvectors.Vocab at 0x7f00e4e13eb0>,\n",
       " 'краситься': <gensim.models.keyedvectors.Vocab at 0x7f00e4e13f10>,\n",
       " 'хд': <gensim.models.keyedvectors.Vocab at 0x7f00e4e13f70>,\n",
       " 'надежда': <gensim.models.keyedvectors.Vocab at 0x7f00e4e13fd0>,\n",
       " 'опора': <gensim.models.keyedvectors.Vocab at 0x7f009797f070>,\n",
       " 'белорусский': <gensim.models.keyedvectors.Vocab at 0x7f009797f0d0>,\n",
       " 'спортаd': <gensim.models.keyedvectors.Vocab at 0x7f009797f130>,\n",
       " 'препод': <gensim.models.keyedvectors.Vocab at 0x7f009797f190>,\n",
       " 'физр': <gensim.models.keyedvectors.Vocab at 0x7f009797f1f0>,\n",
       " 'упоролисьd': <gensim.models.keyedvectors.Vocab at 0x7f009797f250>,\n",
       " 'нравиться': <gensim.models.keyedvectors.Vocab at 0x7f009797f2b0>,\n",
       " 'песнь': <gensim.models.keyedvectors.Vocab at 0x7f009797f310>,\n",
       " 'лепёс': <gensim.models.keyedvectors.Vocab at 0x7f009797f370>,\n",
       " 'равно': <gensim.models.keyedvectors.Vocab at 0x7f009797f3d0>,\n",
       " 'навальный': <gensim.models.keyedvectors.Vocab at 0x7f009797f430>,\n",
       " 'докатиться': <gensim.models.keyedvectors.Vocab at 0x7f009797f490>,\n",
       " 'ханна': <gensim.models.keyedvectors.Vocab at 0x7f009797f4f0>,\n",
       " 'монтана': <gensim.models.keyedvectors.Vocab at 0x7f009797f550>,\n",
       " 'navalny': <gensim.models.keyedvectors.Vocab at 0x7f009797f5b0>,\n",
       " 'ахахах': <gensim.models.keyedvectors.Vocab at 0x7f009797f610>,\n",
       " 'httptco94rztu1wrg': <gensim.models.keyedvectors.Vocab at 0x7f009797f670>,\n",
       " 'alsuilnurovna': <gensim.models.keyedvectors.Vocab at 0x7f009797f6d0>,\n",
       " 'ужс': <gensim.models.keyedvectors.Vocab at 0x7f009797f730>,\n",
       " 'матема': <gensim.models.keyedvectors.Vocab at 0x7f009797f790>,\n",
       " 'narkovasya': <gensim.models.keyedvectors.Vocab at 0x7f009797f7f0>,\n",
       " 'анета': <gensim.models.keyedvectors.Vocab at 0x7f009797f850>,\n",
       " 'сссссссссс': <gensim.models.keyedvectors.Vocab at 0x7f009797f8b0>,\n",
       " 'httptco7bemilhu…': <gensim.models.keyedvectors.Vocab at 0x7f009797f910>,\n",
       " 'codutepoqyb': <gensim.models.keyedvectors.Vocab at 0x7f009797f970>,\n",
       " 'лестница': <gensim.models.keyedvectors.Vocab at 0x7f009797f9d0>,\n",
       " 'курятник': <gensim.models.keyedvectors.Vocab at 0x7f009797fa30>,\n",
       " 'дерьмо': <gensim.models.keyedvectors.Vocab at 0x7f009797fa90>,\n",
       " 'взять': <gensim.models.keyedvectors.Vocab at 0x7f009797faf0>,\n",
       " 'навыебываться': <gensim.models.keyedvectors.Vocab at 0x7f009797fb50>,\n",
       " 'девка': <gensim.models.keyedvectors.Vocab at 0x7f009797fbb0>,\n",
       " 'вале': <gensim.models.keyedvectors.Vocab at 0x7f009797fc10>,\n",
       " 'комент': <gensim.models.keyedvectors.Vocab at 0x7f009797fc70>,\n",
       " 'ибо': <gensim.models.keyedvectors.Vocab at 0x7f009797fcd0>,\n",
       " 'rrrraaaaaaaaaaн': <gensim.models.keyedvectors.Vocab at 0x7f009797fd30>,\n",
       " 'наний': <gensim.models.keyedvectors.Vocab at 0x7f009797fd90>,\n",
       " 'обиженный': <gensim.models.keyedvectors.Vocab at 0x7f009797fdf0>,\n",
       " 'миритьсян': <gensim.models.keyedvectors.Vocab at 0x7f009797fe50>,\n",
       " 'охота': <gensim.models.keyedvectors.Vocab at 0x7f009797feb0>,\n",
       " 'просить': <gensim.models.keyedvectors.Vocab at 0x7f009797ff10>,\n",
       " 'подождать': <gensim.models.keyedvectors.Vocab at 0x7f009797ff70>,\n",
       " 'ког…': <gensim.models.keyedvectors.Vocab at 0x7f009797ffd0>,\n",
       " 'щенок': <gensim.models.keyedvectors.Vocab at 0x7f0097981070>,\n",
       " 'баба': <gensim.models.keyedvectors.Vocab at 0x7f00979810d0>,\n",
       " 'говноd': <gensim.models.keyedvectors.Vocab at 0x7f0097981130>,\n",
       " 'подумать': <gensim.models.keyedvectors.Vocab at 0x7f0097981190>,\n",
       " 'тварь': <gensim.models.keyedvectors.Vocab at 0x7f00979811f0>,\n",
       " 'такой': <gensim.models.keyedvectors.Vocab at 0x7f0097981250>,\n",
       " 'засирать3': <gensim.models.keyedvectors.Vocab at 0x7f00979812b0>,\n",
       " 'проводить': <gensim.models.keyedvectors.Vocab at 0x7f0097981310>,\n",
       " 'вечер': <gensim.models.keyedvectors.Vocab at 0x7f0097981370>,\n",
       " 'кинопиццама': <gensim.models.keyedvectors.Vocab at 0x7f00979813d0>,\n",
       " 'брательник': <gensim.models.keyedvectors.Vocab at 0x7f0097981430>,\n",
       " 'смех': <gensim.models.keyedvectors.Vocab at 0x7f0097981490>,\n",
       " 'httptcodcbopijqpd': <gensim.models.keyedvectors.Vocab at 0x7f00979814f0>,\n",
       " 'scut36': <gensim.models.keyedvectors.Vocab at 0x7f0097981550>,\n",
       " 'rapru': <gensim.models.keyedvectors.Vocab at 0x7f00979815b0>,\n",
       " 'alenasstar': <gensim.models.keyedvectors.Vocab at 0x7f0097981610>,\n",
       " 'пропустить': <gensim.models.keyedvectors.Vocab at 0x7f0097981670>,\n",
       " '1': <gensim.models.keyedvectors.Vocab at 0x7f00979816d0>,\n",
       " 'счастливый': <gensim.models.keyedvectors.Vocab at 0x7f0097981730>,\n",
       " 'билетик': <gensim.models.keyedvectors.Vocab at 0x7f0097981790>,\n",
       " 'karandash87': <gensim.models.keyedvectors.Vocab at 0x7f00979817f0>,\n",
       " 'juljulianapai': <gensim.models.keyedvectors.Vocab at 0x7f0097981850>,\n",
       " 'изощрённый': <gensim.models.keyedvectors.Vocab at 0x7f00979818b0>,\n",
       " 'садизм': <gensim.models.keyedvectors.Vocab at 0x7f0097981910>,\n",
       " 'иль': <gensim.models.keyedvectors.Vocab at 0x7f0097981970>,\n",
       " 'мазохизм': <gensim.models.keyedvectors.Vocab at 0x7f00979819d0>,\n",
       " 'желудок': <gensim.models.keyedvectors.Vocab at 0x7f0097981a30>,\n",
       " 'такъ': <gensim.models.keyedvectors.Vocab at 0x7f0097981a90>,\n",
       " 'победимъ': <gensim.models.keyedvectors.Vocab at 0x7f0097981af0>,\n",
       " 'голодъ': <gensim.models.keyedvectors.Vocab at 0x7f0097981b50>,\n",
       " 'гараздо': <gensim.models.keyedvectors.Vocab at 0x7f0097981bb0>,\n",
       " 'реж': <gensim.models.keyedvectors.Vocab at 0x7f0097981c10>,\n",
       " 'себянемного': <gensim.models.keyedvectors.Vocab at 0x7f0097981c70>,\n",
       " 'кинуть': <gensim.models.keyedvectors.Vocab at 0x7f0097981cd0>,\n",
       " 'milkispilkis27': <gensim.models.keyedvectors.Vocab at 0x7f0097981d30>,\n",
       " 'превращаться': <gensim.models.keyedvectors.Vocab at 0x7f0097981d90>,\n",
       " 'полнолуние': <gensim.models.keyedvectors.Vocab at 0x7f0097981df0>,\n",
       " 'единарог': <gensim.models.keyedvectors.Vocab at 0x7f0097981e50>,\n",
       " 'расти': <gensim.models.keyedvectors.Vocab at 0x7f0097981eb0>,\n",
       " 'ромашка': <gensim.models.keyedvectors.Vocab at 0x7f0097981f10>,\n",
       " 'пупок': <gensim.models.keyedvectors.Vocab at 0x7f0097981f70>,\n",
       " 'httptcoii2kgcymcv': <gensim.models.keyedvectors.Vocab at 0x7f0097981fd0>,\n",
       " 'шанс': <gensim.models.keyedvectors.Vocab at 0x7f0097983070>,\n",
       " 'рик': <gensim.models.keyedvectors.Vocab at 0x7f00979830d0>,\n",
       " 'использовать': <gensim.models.keyedvectors.Vocab at 0x7f0097983130>,\n",
       " '83': <gensim.models.keyedvectors.Vocab at 0x7f0097983190>,\n",
       " 'теперьмаркуша': <gensim.models.keyedvectors.Vocab at 0x7f00979831f0>,\n",
       " 'фрейм': <gensim.models.keyedvectors.Vocab at 0x7f0097983250>,\n",
       " 'antonvern': <gensim.models.keyedvectors.Vocab at 0x7f00979832b0>,\n",
       " 'тв': <gensim.models.keyedvectors.Vocab at 0x7f0097983310>,\n",
       " 'чехия': <gensim.models.keyedvectors.Vocab at 0x7f0097983370>,\n",
       " 'выдать': <gensim.models.keyedvectors.Vocab at 0x7f00979833d0>,\n",
       " 'эфир': <gensim.models.keyedvectors.Vocab at 0x7f0097983430>,\n",
       " 'запись': <gensim.models.keyedvectors.Vocab at 0x7f0097983490>,\n",
       " 'беседа': <gensim.models.keyedvectors.Vocab at 0x7f00979834f0>,\n",
       " 'премьера': <gensim.models.keyedvectors.Vocab at 0x7f0097983550>,\n",
       " 'министр': <gensim.models.keyedvectors.Vocab at 0x7f00979835b0>,\n",
       " 'фееричный': <gensim.models.keyedvectors.Vocab at 0x7f0097983610>,\n",
       " 'бтеперь': <gensim.models.keyedvectors.Vocab at 0x7f0097983670>,\n",
       " 'мандеть': <gensim.models.keyedvectors.Vocab at 0x7f00979836d0>,\n",
       " 'умереть': <gensim.models.keyedvectors.Vocab at 0x7f0097983730>,\n",
       " 'http…': <gensim.models.keyedvectors.Vocab at 0x7f0097983790>,\n",
       " 'kindr96': <gensim.models.keyedvectors.Vocab at 0x7f00979837f0>,\n",
       " 'личный': <gensim.models.keyedvectors.Vocab at 0x7f0097983850>,\n",
       " 'проблемкиdный': <gensim.models.keyedvectors.Vocab at 0x7f00979838b0>,\n",
       " 'наладиться': <gensim.models.keyedvectors.Vocab at 0x7f0097983910>,\n",
       " 'когданибудь': <gensim.models.keyedvectors.Vocab at 0x7f0097983970>,\n",
       " 'supremefm': <gensim.models.keyedvectors.Vocab at 0x7f00979839d0>,\n",
       " 'тат': <gensim.models.keyedvectors.Vocab at 0x7f0097983a30>,\n",
       " 'httptco2luwqrs5h3': <gensim.models.keyedvectors.Vocab at 0x7f0097983a90>,\n",
       " 'ох': <gensim.models.keyedvectors.Vocab at 0x7f0097983af0>,\n",
       " 'изъебаться': <gensim.models.keyedvectors.Vocab at 0x7f0097983b50>,\n",
       " 'заливать': <gensim.models.keyedvectors.Vocab at 0x7f0097983bb0>,\n",
       " 'разрешение': <gensim.models.keyedvectors.Vocab at 0x7f0097983c10>,\n",
       " '6718х939px': <gensim.models.keyedvectors.Vocab at 0x7f0097983c70>,\n",
       " 'фотохостинг': <gensim.models.keyedvectors.Vocab at 0x7f0097983cd0>,\n",
       " 'залить': <gensim.models.keyedvectors.Vocab at 0x7f0097983d30>,\n",
       " 'isoloviova': <gensim.models.keyedvectors.Vocab at 0x7f0097983d90>,\n",
       " 'veronikavorobey': <gensim.models.keyedvectors.Vocab at 0x7f0097983df0>,\n",
       " 'влезть': <gensim.models.keyedvectors.Vocab at 0x7f0097983e50>,\n",
       " 'москва': <gensim.models.keyedvectors.Vocab at 0x7f0097983eb0>,\n",
       " 'msk': <gensim.models.keyedvectors.Vocab at 0x7f0097983f10>,\n",
       " 'moscow': <gensim.models.keyedvectors.Vocab at 0x7f0097983f70>,\n",
       " 'площадь': <gensim.models.keyedvectors.Vocab at 0x7f0097983fd0>,\n",
       " 'пушкин': <gensim.models.keyedvectors.Vocab at 0x7f0097984070>,\n",
       " 'httptcotxanhcrcqn': <gensim.models.keyedvectors.Vocab at 0x7f00979840d0>,\n",
       " 'тетрадь': <gensim.models.keyedvectors.Vocab at 0x7f0097984130>,\n",
       " 'мухамадеев': <gensim.models.keyedvectors.Vocab at 0x7f0097984190>,\n",
       " 'httptco0ne2esifey': <gensim.models.keyedvectors.Vocab at 0x7f00979841f0>,\n",
       " '040998kseniya': <gensim.models.keyedvectors.Vocab at 0x7f0097984250>,\n",
       " 'дак': <gensim.models.keyedvectors.Vocab at 0x7f00979842b0>,\n",
       " 'вотчто': <gensim.models.keyedvectors.Vocab at 0x7f0097984310>,\n",
       " 'вообще': <gensim.models.keyedvectors.Vocab at 0x7f0097984370>,\n",
       " 'случиться': <gensim.models.keyedvectors.Vocab at 0x7f00979843d0>,\n",
       " 'задать': <gensim.models.keyedvectors.Vocab at 0x7f0097984430>,\n",
       " 'вызубрить': <gensim.models.keyedvectors.Vocab at 0x7f0097984490>,\n",
       " 'длинный': <gensim.models.keyedvectors.Vocab at 0x7f00979844f0>,\n",
       " 'стих': <gensim.models.keyedvectors.Vocab at 0x7f0097984550>,\n",
       " 'никакна': <gensim.models.keyedvectors.Vocab at 0x7f00979845b0>,\n",
       " 'запоминаться': <gensim.models.keyedvectors.Vocab at 0x7f0097984610>,\n",
       " 'кремлёвский': <gensim.models.keyedvectors.Vocab at 0x7f0097984670>,\n",
       " 'борец': <gensim.models.keyedvectors.Vocab at 0x7f00979846d0>,\n",
       " 'коррупция': <gensim.models.keyedvectors.Vocab at 0x7f0097984730>,\n",
       " 'обвинить': <gensim.models.keyedvectors.Vocab at 0x7f0097984790>,\n",
       " 'списывание': <gensim.models.keyedvectors.Vocab at 0x7f00979847f0>,\n",
       " 'диссертация': <gensim.models.keyedvectors.Vocab at 0x7f0097984850>,\n",
       " 'httptcoaub0vqf6ul': <gensim.models.keyedvectors.Vocab at 0x7f00979848b0>,\n",
       " 'anfisa': <gensim.models.keyedvectors.Vocab at 0x7f0097984910>,\n",
       " 'бляяять': <gensim.models.keyedvectors.Vocab at 0x7f0097984970>,\n",
       " 'поц': <gensim.models.keyedvectors.Vocab at 0x7f00979849d0>,\n",
       " 'уг': <gensim.models.keyedvectors.Vocab at 0x7f0097984a30>,\n",
       " 'провал': <gensim.models.keyedvectors.Vocab at 0x7f0097984a90>,\n",
       " 'igolkinaks': <gensim.models.keyedvectors.Vocab at 0x7f0097984af0>,\n",
       " 'конешный': <gensim.models.keyedvectors.Vocab at 0x7f0097984b50>,\n",
       " 'чорт': <gensim.models.keyedvectors.Vocab at 0x7f0097984bb0>,\n",
       " 'лысый': <gensim.models.keyedvectors.Vocab at 0x7f0097984c10>,\n",
       " 'жолтый': <gensim.models.keyedvectors.Vocab at 0x7f0097984c70>,\n",
       " 'заяз': <gensim.models.keyedvectors.Vocab at 0x7f0097984cd0>,\n",
       " 'кароооший': <gensim.models.keyedvectors.Vocab at 0x7f0097984d30>,\n",
       " 'thisisswag3': <gensim.models.keyedvectors.Vocab at 0x7f0097984d90>,\n",
       " 'гряяяяязный': <gensim.models.keyedvectors.Vocab at 0x7f0097984df0>,\n",
       " 'ищвращееёнка': <gensim.models.keyedvectors.Vocab at 0x7f0097984e50>,\n",
       " 'покачивать': <gensim.models.keyedvectors.Vocab at 0x7f0097984eb0>,\n",
       " 'голова': <gensim.models.keyedvectors.Vocab at 0x7f0097984f10>,\n",
       " 'качать': <gensim.models.keyedvectors.Vocab at 0x7f0097984f70>,\n",
       " 'палец': <gensim.models.keyedvectors.Vocab at 0x7f0097984fd0>,\n",
       " 'evilevil': <gensim.models.keyedvectors.Vocab at 0x7f0097986070>,\n",
       " 'nastyayamkova': <gensim.models.keyedvectors.Vocab at 0x7f00979860d0>,\n",
       " 'кременить': <gensim.models.keyedvectors.Vocab at 0x7f0097986130>,\n",
       " 'который': <gensim.models.keyedvectors.Vocab at 0x7f0097986190>,\n",
       " 'секрет': <gensim.models.keyedvectors.Vocab at 0x7f00979861f0>,\n",
       " 'внутри': <gensim.models.keyedvectors.Vocab at 0x7f0097986250>,\n",
       " 'нажимаетсямна': <gensim.models.keyedvectors.Vocab at 0x7f00979862b0>,\n",
       " 'распездеть': <gensim.models.keyedvectors.Vocab at 0x7f0097986310>,\n",
       " 'cegavintovar': <gensim.models.keyedvectors.Vocab at 0x7f0097986370>,\n",
       " 'настенёк': <gensim.models.keyedvectors.Vocab at 0x7f00979863d0>,\n",
       " 'спросить': <gensim.models.keyedvectors.Vocab at 0x7f0097986430>,\n",
       " 'юли': <gensim.models.keyedvectors.Vocab at 0x7f0097986490>,\n",
       " 'ещен': <gensim.models.keyedvectors.Vocab at 0x7f00979864f0>,\n",
       " 'готовый': <gensim.models.keyedvectors.Vocab at 0x7f0097986550>,\n",
       " 'признаваться': <gensim.models.keyedvectors.Vocab at 0x7f00979865b0>,\n",
       " 'соцсеть': <gensim.models.keyedvectors.Vocab at 0x7f0097986610>,\n",
       " 'cymufujobiwa': <gensim.models.keyedvectors.Vocab at 0x7f0097986670>,\n",
       " 'песня': <gensim.models.keyedvectors.Vocab at 0x7f00979866d0>,\n",
       " 'gufice': <gensim.models.keyedvectors.Vocab at 0x7f0097986730>,\n",
       " 'baby': <gensim.models.keyedvectors.Vocab at 0x7f0097986790>,\n",
       " 'поётня': <gensim.models.keyedvectors.Vocab at 0x7f00979867f0>,\n",
       " 'айса': <gensim.models.keyedvectors.Vocab at 0x7f0097986850>,\n",
       " 'айза': <gensim.models.keyedvectors.Vocab at 0x7f00979868b0>,\n",
       " 'жена': <gensim.models.keyedvectors.Vocab at 0x7f0097986910>,\n",
       " 'прикоо': <gensim.models.keyedvectors.Vocab at 0x7f0097986970>,\n",
       " 'linapanova0': <gensim.models.keyedvectors.Vocab at 0x7f00979869d0>,\n",
       " 'vmeysters': <gensim.models.keyedvectors.Vocab at 0x7f0097986a30>,\n",
       " 'итж': <gensim.models.keyedvectors.Vocab at 0x7f0097986a90>,\n",
       " 'издивательство': <gensim.models.keyedvectors.Vocab at 0x7f0097986af0>,\n",
       " 'kabanovaanya': <gensim.models.keyedvectors.Vocab at 0x7f0097986b50>,\n",
       " 'выиграть': <gensim.models.keyedvectors.Vocab at 0x7f0097986bb0>,\n",
       " 'согласный': <gensim.models.keyedvectors.Vocab at 0x7f0097986c10>,\n",
       " 'испортитьgtlt': <gensim.models.keyedvectors.Vocab at 0x7f0097986c70>,\n",
       " 'rusecon': <gensim.models.keyedvectors.Vocab at 0x7f0097986cd0>,\n",
       " 'суд': <gensim.models.keyedvectors.Vocab at 0x7f0097986d30>,\n",
       " 'сша': <gensim.models.keyedvectors.Vocab at 0x7f0097986d90>,\n",
       " 'признать': <gensim.models.keyedvectors.Vocab at 0x7f0097986df0>,\n",
       " 'прослушок': <gensim.models.keyedvectors.Vocab at 0x7f0097986e50>,\n",
       " 'анб': <gensim.models.keyedvectors.Vocab at 0x7f0097986eb0>,\n",
       " 'законный': <gensim.models.keyedvectors.Vocab at 0x7f0097986f10>,\n",
       " 'httptcojjvmtc4jwd': <gensim.models.keyedvectors.Vocab at 0x7f0097986f70>,\n",
       " 'о0': <gensim.models.keyedvectors.Vocab at 0x7f0097986fd0>,\n",
       " 'устать': <gensim.models.keyedvectors.Vocab at 0x7f0097988070>,\n",
       " 'мойка': <gensim.models.keyedvectors.Vocab at 0x7f00979880d0>,\n",
       " 'стоять': <gensim.models.keyedvectors.Vocab at 0x7f0097988130>,\n",
       " 'главный': <gensim.models.keyedvectors.Vocab at 0x7f0097988190>,\n",
       " 'грязный': <gensim.models.keyedvectors.Vocab at 0x7f00979881f0>,\n",
       " 'memonigetoz': <gensim.models.keyedvectors.Vocab at 0x7f0097988250>,\n",
       " 'лежать': <gensim.models.keyedvectors.Vocab at 0x7f00979882b0>,\n",
       " 'конфета': <gensim.models.keyedvectors.Vocab at 0x7f0097988310>,\n",
       " 'мишка': <gensim.models.keyedvectors.Vocab at 0x7f0097988370>,\n",
       " 'косолапый': <gensim.models.keyedvectors.Vocab at 0x7f00979883d0>,\n",
       " 'орех': <gensim.models.keyedvectors.Vocab at 0x7f0097988430>,\n",
       " 'добавить': <gensim.models.keyedvectors.Vocab at 0x7f0097988490>,\n",
       " 'воооот': <gensim.models.keyedvectors.Vocab at 0x7f00979884f0>,\n",
       " 'такенный': <gensim.models.keyedvectors.Vocab at 0x7f0097988550>,\n",
       " 'russianlovatic': <gensim.models.keyedvectors.Vocab at 0x7f00979885b0>,\n",
       " 'tohughelen1d': <gensim.models.keyedvectors.Vocab at 0x7f0097988610>,\n",
       " 'bahhtee': <gensim.models.keyedvectors.Vocab at 0x7f0097988670>,\n",
       " 'алёна': <gensim.models.keyedvectors.Vocab at 0x7f00979886d0>,\n",
       " 'тойминцев': <gensim.models.keyedvectors.Vocab at 0x7f0097988730>,\n",
       " 'настоящий': <gensim.models.keyedvectors.Vocab at 0x7f0097988790>,\n",
       " 'артист': <gensim.models.keyedvectors.Vocab at 0x7f00979887f0>,\n",
       " 'ночью': <gensim.models.keyedvectors.Vocab at 0x7f0097988850>,\n",
       " 'разбудить': <gensim.models.keyedvectors.Vocab at 0x7f00979888b0>,\n",
       " 'будить': <gensim.models.keyedvectors.Vocab at 0x7f0097988910>,\n",
       " 'мразинка': <gensim.models.keyedvectors.Vocab at 0x7f0097988970>,\n",
       " 'молчать': <gensim.models.keyedvectors.Vocab at 0x7f00979889d0>,\n",
       " 'крысочок': <gensim.models.keyedvectors.Vocab at 0x7f0097988a30>,\n",
       " 'сарказм': <gensim.models.keyedvectors.Vocab at 0x7f0097988a90>,\n",
       " 'полье': <gensim.models.keyedvectors.Vocab at 0x7f0097988af0>,\n",
       " 'httptcothg7avwcor': <gensim.models.keyedvectors.Vocab at 0x7f0097988b50>,\n",
       " 'морозец': <gensim.models.keyedvectors.Vocab at 0x7f0097988bb0>,\n",
       " 'жать': <gensim.models.keyedvectors.Vocab at 0x7f0097988c10>,\n",
       " 'улицуна': <gensim.models.keyedvectors.Vocab at 0x7f0097988c70>,\n",
       " 'выйти': <gensim.models.keyedvectors.Vocab at 0x7f0097988cd0>,\n",
       " 'mariposakll': <gensim.models.keyedvectors.Vocab at 0x7f0097988d30>,\n",
       " 'сезон': <gensim.models.keyedvectors.Vocab at 0x7f0097988d90>,\n",
       " 'посмотреть': <gensim.models.keyedvectors.Vocab at 0x7f0097988df0>,\n",
       " 'оторваться': <gensim.models.keyedvectors.Vocab at 0x7f0097988e50>,\n",
       " 'jendidarr': <gensim.models.keyedvectors.Vocab at 0x7f0097988eb0>,\n",
       " 'сразуна': <gensim.models.keyedvectors.Vocab at 0x7f0097988f10>,\n",
       " ...}"
      ]
     },
     "execution_count": 73,
     "metadata": {},
     "output_type": "execute_result"
    }
   ],
   "source": [
    "modelW2V.wv.vocab"
   ]
  },
  {
   "cell_type": "code",
   "execution_count": 98,
   "metadata": {},
   "outputs": [],
   "source": [
    "vect_idf = TfidfVectorizer()\n",
    "vect_idf.fit_transform(df_train['text'])\n",
    "tfidf = dict(zip(vect_idf.get_feature_names(), vect_idf.idf_))"
   ]
  },
  {
   "cell_type": "code",
   "execution_count": 156,
   "metadata": {},
   "outputs": [],
   "source": [
    "def get_vect_mean(txt):\n",
    "    vector_w2v = np.zeros(50)\n",
    "    n_w2v = 0\n",
    "    for wrd in txt.split():\n",
    "        if wrd in modelW2V:\n",
    "            vector_w2v += modelW2V[wrd]\n",
    "            n_w2v += 1\n",
    "    if n_w2v > 0:\n",
    "        vector_w2v = vector_w2v / n_w2v\n",
    "    return vector_w2v\n",
    "\n",
    "def get_vect_idf(txt):\n",
    "    vector_w2v = np.zeros(50)\n",
    "    n_w2v = 0\n",
    "    for wrd in txt.split():\n",
    "        if wrd in modelW2V:\n",
    "            vector_w2v += modelW2V[wrd]*tfidf.get(wrd, 1.)\n",
    "            n_w2v += 1\n",
    "    if n_w2v > 0:\n",
    "        vector_w2v = vector_w2v / n_w2v\n",
    "    return vector_w2v"
   ]
  },
  {
   "cell_type": "code",
   "execution_count": 139,
   "metadata": {},
   "outputs": [],
   "source": [
    "from tqdm import tqdm_notebook"
   ]
  },
  {
   "cell_type": "code",
   "execution_count": 140,
   "metadata": {},
   "outputs": [
    {
     "name": "stderr",
     "output_type": "stream",
     "text": [
      "<ipython-input-140-196588226526>:2: TqdmDeprecationWarning: This function will be removed in tqdm==5.0.0\n",
      "Please use `tqdm.notebook.tqdm` instead of `tqdm.tqdm_notebook`\n",
      "  for txt in tqdm_notebook(df_train['text']):\n"
     ]
    },
    {
     "data": {
      "application/vnd.jupyter.widget-view+json": {
       "model_id": "281e74bd2a104ea7a2834281089a38b8",
       "version_major": 2,
       "version_minor": 0
      },
      "text/plain": [
       "HBox(children=(FloatProgress(value=0.0, max=181467.0), HTML(value='')))"
      ]
     },
     "metadata": {},
     "output_type": "display_data"
    },
    {
     "name": "stderr",
     "output_type": "stream",
     "text": [
      "<ipython-input-129-839569e518dd>:5: DeprecationWarning: Call to deprecated `__contains__` (Method will be removed in 4.0.0, use self.wv.__contains__() instead).\n",
      "  if wrd in modelW2V:\n",
      "<ipython-input-129-839569e518dd>:6: DeprecationWarning: Call to deprecated `__getitem__` (Method will be removed in 4.0.0, use self.wv.__getitem__() instead).\n",
      "  vector_w2v += modelW2V[wrd]\n"
     ]
    },
    {
     "name": "stdout",
     "output_type": "stream",
     "text": [
      "\n"
     ]
    },
    {
     "name": "stderr",
     "output_type": "stream",
     "text": [
      "<ipython-input-140-196588226526>:6: TqdmDeprecationWarning: This function will be removed in tqdm==5.0.0\n",
      "Please use `tqdm.notebook.tqdm` instead of `tqdm.tqdm_notebook`\n",
      "  for txt in tqdm_notebook(df_val['text']):\n"
     ]
    },
    {
     "data": {
      "application/vnd.jupyter.widget-view+json": {
       "model_id": "e2376a219a37471fbfe347feddfe9bf4",
       "version_major": 2,
       "version_minor": 0
      },
      "text/plain": [
       "HBox(children=(FloatProgress(value=0.0, max=22683.0), HTML(value='')))"
      ]
     },
     "metadata": {},
     "output_type": "display_data"
    },
    {
     "name": "stdout",
     "output_type": "stream",
     "text": [
      "\n"
     ]
    }
   ],
   "source": [
    "arr_vect = []\n",
    "for txt in tqdm_notebook(df_train['text']):\n",
    "    arr_vect.append(get_vect_mean(txt))\n",
    "    \n",
    "arr_vect_valid = []\n",
    "for txt in tqdm_notebook(df_val['text']):\n",
    "    arr_vect_valid.append(get_vect_mean(txt))\n",
    "    \n",
    "train_w2v = np.asarray(arr_vect)    \n",
    "valid_w2v = np.asarray(arr_vect_valid)"
   ]
  },
  {
   "cell_type": "code",
   "execution_count": 143,
   "metadata": {},
   "outputs": [],
   "source": [
    "lgr_w2v = LogisticRegression()"
   ]
  },
  {
   "cell_type": "code",
   "execution_count": 144,
   "metadata": {},
   "outputs": [
    {
     "name": "stderr",
     "output_type": "stream",
     "text": [
      "/home/rzaharov@mvs.local/.local/share/virtualenvs/nlp-course-A3nIyBIP/lib/python3.8/site-packages/sklearn/linear_model/logistic.py:430: FutureWarning: Default solver will be changed to 'lbfgs' in 0.22. Specify a solver to silence this warning.\n",
      "  warnings.warn(\"Default solver will be changed to 'lbfgs' in 0.22. \"\n"
     ]
    },
    {
     "data": {
      "text/plain": [
       "LogisticRegression(C=1.0, class_weight=None, dual=False, fit_intercept=True,\n",
       "                   intercept_scaling=1, l1_ratio=None, max_iter=100,\n",
       "                   multi_class='warn', n_jobs=None, penalty='l2',\n",
       "                   random_state=None, solver='warn', tol=0.0001, verbose=0,\n",
       "                   warm_start=False)"
      ]
     },
     "execution_count": 144,
     "metadata": {},
     "output_type": "execute_result"
    }
   ],
   "source": [
    "lgr_w2v.fit(train_w2v, df_train['class'].to_numpy())"
   ]
  },
  {
   "cell_type": "code",
   "execution_count": 145,
   "metadata": {},
   "outputs": [],
   "source": [
    "y_pred = lgr_w2v.predict(valid_w2v)"
   ]
  },
  {
   "cell_type": "code",
   "execution_count": 146,
   "metadata": {},
   "outputs": [
    {
     "data": {
      "text/plain": [
       "0.6417140589869065"
      ]
     },
     "execution_count": 146,
     "metadata": {},
     "output_type": "execute_result"
    }
   ],
   "source": [
    "accuracy_score(df_val['class'].to_numpy(), y_pred)"
   ]
  },
  {
   "cell_type": "code",
   "execution_count": null,
   "metadata": {},
   "outputs": [],
   "source": []
  },
  {
   "cell_type": "code",
   "execution_count": 157,
   "metadata": {},
   "outputs": [
    {
     "name": "stderr",
     "output_type": "stream",
     "text": [
      "<ipython-input-157-23a6bf44f63a>:2: TqdmDeprecationWarning: This function will be removed in tqdm==5.0.0\n",
      "Please use `tqdm.notebook.tqdm` instead of `tqdm.tqdm_notebook`\n",
      "  for txt in tqdm_notebook(df_train['text']):\n"
     ]
    },
    {
     "data": {
      "application/vnd.jupyter.widget-view+json": {
       "model_id": "6bbf234faa0d4b398ea7e96c0d02aa6e",
       "version_major": 2,
       "version_minor": 0
      },
      "text/plain": [
       "HBox(children=(FloatProgress(value=0.0, max=181467.0), HTML(value='')))"
      ]
     },
     "metadata": {},
     "output_type": "display_data"
    },
    {
     "name": "stderr",
     "output_type": "stream",
     "text": [
      "<ipython-input-156-ce09dd437df9>:16: DeprecationWarning: Call to deprecated `__contains__` (Method will be removed in 4.0.0, use self.wv.__contains__() instead).\n",
      "  if wrd in modelW2V:\n",
      "<ipython-input-156-ce09dd437df9>:17: DeprecationWarning: Call to deprecated `__getitem__` (Method will be removed in 4.0.0, use self.wv.__getitem__() instead).\n",
      "  vector_w2v += modelW2V[wrd]*tfidf.get(wrd, 1.)\n"
     ]
    },
    {
     "name": "stdout",
     "output_type": "stream",
     "text": [
      "\n"
     ]
    },
    {
     "name": "stderr",
     "output_type": "stream",
     "text": [
      "<ipython-input-157-23a6bf44f63a>:6: TqdmDeprecationWarning: This function will be removed in tqdm==5.0.0\n",
      "Please use `tqdm.notebook.tqdm` instead of `tqdm.tqdm_notebook`\n",
      "  for txt in tqdm_notebook(df_val['text']):\n"
     ]
    },
    {
     "data": {
      "application/vnd.jupyter.widget-view+json": {
       "model_id": "eb0029b7ceca46b598c3d69b4d9087ed",
       "version_major": 2,
       "version_minor": 0
      },
      "text/plain": [
       "HBox(children=(FloatProgress(value=0.0, max=22683.0), HTML(value='')))"
      ]
     },
     "metadata": {},
     "output_type": "display_data"
    },
    {
     "name": "stdout",
     "output_type": "stream",
     "text": [
      "\n"
     ]
    }
   ],
   "source": [
    "arr_vect = []\n",
    "for txt in tqdm_notebook(df_train['text']):\n",
    "    arr_vect.append(get_vect_idf(txt))\n",
    "    \n",
    "arr_vect_valid = []\n",
    "for txt in tqdm_notebook(df_val['text']):\n",
    "    arr_vect_valid.append(get_vect_idf(txt))\n",
    "    \n",
    "train_w2v = np.asarray(arr_vect)    \n",
    "valid_w2v = np.asarray(arr_vect_valid)"
   ]
  },
  {
   "cell_type": "code",
   "execution_count": 158,
   "metadata": {},
   "outputs": [
    {
     "name": "stderr",
     "output_type": "stream",
     "text": [
      "/home/rzaharov@mvs.local/.local/share/virtualenvs/nlp-course-A3nIyBIP/lib/python3.8/site-packages/sklearn/linear_model/logistic.py:430: FutureWarning: Default solver will be changed to 'lbfgs' in 0.22. Specify a solver to silence this warning.\n",
      "  warnings.warn(\"Default solver will be changed to 'lbfgs' in 0.22. \"\n"
     ]
    }
   ],
   "source": [
    "lgr_w2v = LogisticRegression()\n",
    "lgr_w2v.fit(train_w2v, df_train['class'].to_numpy())\n",
    "y_pred = lgr_w2v.predict(valid_w2v)"
   ]
  },
  {
   "cell_type": "code",
   "execution_count": 159,
   "metadata": {},
   "outputs": [
    {
     "data": {
      "text/plain": [
       "0.6382312745227704"
      ]
     },
     "execution_count": 159,
     "metadata": {},
     "output_type": "execute_result"
    }
   ],
   "source": [
    "accuracy_score(df_val['class'].to_numpy(), y_pred)"
   ]
  },
  {
   "cell_type": "code",
   "execution_count": null,
   "metadata": {},
   "outputs": [],
   "source": []
  },
  {
   "cell_type": "code",
   "execution_count": null,
   "metadata": {},
   "outputs": [],
   "source": []
  },
  {
   "cell_type": "code",
   "execution_count": null,
   "metadata": {},
   "outputs": [],
   "source": []
  },
  {
   "cell_type": "code",
   "execution_count": null,
   "metadata": {},
   "outputs": [],
   "source": []
  },
  {
   "cell_type": "code",
   "execution_count": 31,
   "metadata": {},
   "outputs": [
    {
     "name": "stdout",
     "output_type": "stream",
     "text": [
      "2020-09-09 20:05:26.914682: W tensorflow/stream_executor/platform/default/dso_loader.cc:59] Could not load dynamic library 'libcudart.so.10.1'; dlerror: libcudart.so.10.1: cannot open shared object file: No such file or directory\n",
      "2020-09-09 20:05:26.914714: I tensorflow/stream_executor/cuda/cudart_stub.cc:29] Ignore above cudart dlerror if you do not have a GPU set up on your machine.\n",
      "W0909 20:05:28.516618 140441209849600 plugin_event_accumulator.py:321] Found more than one graph event per run, or there was a metagraph containing a graph_def, as well as one or more graph events.  Overwriting the graph with the newest event.\n",
      "Serving TensorBoard on localhost; to expose to the network, use a proxy or pass --bind_all\n",
      "TensorBoard 2.3.0 at http://localhost:6006/ (Press CTRL+C to quit)\n",
      "^C\n"
     ]
    }
   ],
   "source": [
    "!tensorboard --logdir logs"
   ]
  },
  {
   "cell_type": "markdown",
   "metadata": {
    "colab_type": "text",
    "id": "7taLHZLaKu54"
   },
   "source": [
    "### Нейросеть"
   ]
  },
  {
   "cell_type": "code",
   "execution_count": 0,
   "metadata": {
    "colab": {},
    "colab_type": "code",
    "id": "LKaht9EJKYHB"
   },
   "outputs": [],
   "source": [
    "import random\n",
    "import torch\n",
    "import torch.nn as nn\n",
    "\n",
    "seed = 0\n",
    "\n",
    "random.seed(seed)\n",
    "np.random.seed(seed)\n",
    "torch.manual_seed(seed)\n",
    "torch.cuda.manual_seed(seed)\n",
    "torch.backends.cudnn.deterministic = True\n"
   ]
  },
  {
   "cell_type": "code",
   "execution_count": 0,
   "metadata": {
    "colab": {},
    "colab_type": "code",
    "id": "Ynw9XOZNK4Wp"
   },
   "outputs": [],
   "source": [
    "class Net(nn.Module):\n",
    "    def __init__(self, vocab_size=20, embedding_dim = 128, out_channel = 128, num_classes = num_classes):\n",
    "        super().__init__()\n",
    "        self.embedding = nn.Embedding(vocab_size, embedding_dim)\n",
    "        self.conv = nn.Conv1d(embedding_dim, out_channel, kernel_size=3)\n",
    "        self.relu = nn.ReLU()\n",
    "        self.linear = nn.Linear(out_channel, num_classes)\n",
    "        \n",
    "    def forward(self, x):        \n",
    "        output = self.embedding(x)\n",
    "        #                       B  F  L         \n",
    "        output = output.permute(0, 2, 1)\n",
    "        output = self.conv(output)\n",
    "        output = self.relu(output)\n",
    "        output = torch.max(output, axis=2).values\n",
    "        output = self.linear(output)\n",
    "        \n",
    "        return output"
   ]
  },
  {
   "cell_type": "code",
   "execution_count": 0,
   "metadata": {
    "colab": {},
    "colab_type": "code",
    "id": "PhwK7yLAK8b0"
   },
   "outputs": [],
   "source": [
    "from torch.utils.data import DataLoader, Dataset\n",
    "\n",
    "class DataWrapper(Dataset):\n",
    "    def __init__(self, data, target=None, transform=None):\n",
    "        self.data = torch.from_numpy(data).long()\n",
    "        if target is not None:\n",
    "            self.target = torch.from_numpy(target).long()\n",
    "        self.transform = transform\n",
    "        \n",
    "    def __getitem__(self, index):\n",
    "        x = self.data[index]\n",
    "        y = self.target[index] if self.target is not None else None\n",
    "        \n",
    "        if self.transform:\n",
    "            x = self.transform(x)\n",
    "            \n",
    "        return x, y\n",
    "    \n",
    "    def __len__(self):\n",
    "        return len(self.data)"
   ]
  },
  {
   "cell_type": "code",
   "execution_count": 0,
   "metadata": {
    "colab": {
     "base_uri": "https://localhost:8080/",
     "height": 646
    },
    "colab_type": "code",
    "executionInfo": {
     "elapsed": 268258,
     "status": "ok",
     "timestamp": 1590651203640,
     "user": {
      "displayName": "Roman Zakharov",
      "photoUrl": "",
      "userId": "18255168926005506833"
     },
     "user_tz": -240
    },
    "id": "GL6E1ha9LCq8",
    "outputId": "3f24d317-204b-4ffd-dd0c-f30a7930ff85"
   },
   "outputs": [
    {
     "name": "stdout",
     "output_type": "stream",
     "text": [
      "Net(\n",
      "  (embedding): Embedding(20, 128)\n",
      "  (conv): Conv1d(128, 128, kernel_size=(3,), stride=(1,))\n",
      "  (relu): ReLU()\n",
      "  (linear): Linear(in_features=128, out_features=2, bias=True)\n",
      ")\n",
      "Parameters: 52098\n",
      "Train epoch 1/10\n",
      "Step 0: loss=0.7216365933418274\n",
      "Step 100: loss=0.6459038257598877\n",
      "Train epoch 2/10\n",
      "Step 0: loss=0.6234788298606873\n",
      "Step 100: loss=0.6093052625656128\n",
      "Train epoch 3/10\n",
      "Step 0: loss=0.6433311700820923\n",
      "Step 100: loss=0.6456295847892761\n",
      "Train epoch 4/10\n",
      "Step 0: loss=0.6052969694137573\n",
      "Step 100: loss=0.6387022137641907\n",
      "Train epoch 5/10\n",
      "Step 0: loss=0.6290259957313538\n",
      "Step 100: loss=0.6229516267776489\n",
      "Train epoch 6/10\n",
      "Step 0: loss=0.6234921216964722\n",
      "Step 100: loss=0.6081848740577698\n",
      "Train epoch 7/10\n",
      "Step 0: loss=0.6184155941009521\n",
      "Step 100: loss=0.626157283782959\n",
      "Train epoch 8/10\n",
      "Step 0: loss=0.6028788685798645\n",
      "Step 100: loss=0.630898118019104\n",
      "Train epoch 9/10\n",
      "Step 0: loss=0.607853889465332\n",
      "Step 100: loss=0.594542384147644\n",
      "Train epoch 10/10\n",
      "Step 0: loss=0.5952185988426208\n",
      "Step 100: loss=0.6276369690895081\n"
     ]
    }
   ],
   "source": [
    "model = Net(vocab_size=max_words)\n",
    "\n",
    "print(model)\n",
    "print(\"Parameters:\", sum([param.nelement() for param in model.parameters()]))\n",
    "\n",
    "model.train()\n",
    "#model = model.cuda()\n",
    "\n",
    "optimizer = torch.optim.Adam(model.parameters(), lr=10e-3)\n",
    "criterion = nn.CrossEntropyLoss()\n",
    "\n",
    "    \n",
    "train_dataset = DataWrapper(x_train, y_train)\n",
    "train_loader = DataLoader(train_dataset, batch_size=batch_size, shuffle=True)\n",
    "\n",
    "val_dataset = DataWrapper(x_val, y_val)\n",
    "val_loader = DataLoader(val_dataset, batch_size=batch_size, shuffle=True)\n",
    "\n",
    "loss_history = []\n",
    "\n",
    "for epoch in range(1, epochs + 1):\n",
    "    print(f\"Train epoch {epoch}/{epochs}\")\n",
    "    for i, (data, target) in enumerate(train_loader):\n",
    "        optimizer.zero_grad()\n",
    "        \n",
    "        # data = data.cuda()\n",
    "        # target = target.cuda()\n",
    "        \n",
    "        # compute output\n",
    "        output = model(data)\n",
    "        \n",
    "        # compute gradient and do SGD step\n",
    "        loss = criterion(output, target)\n",
    "        loss.backward()\n",
    "        \n",
    "        optimizer.step()\n",
    "        \n",
    "        if i%print_batch_n == 0:\n",
    "            loss = loss.float().item()\n",
    "            print(\"Step {}: loss={}\".format(i, loss))\n",
    "            loss_history.append(loss)"
   ]
  },
  {
   "cell_type": "code",
   "execution_count": 0,
   "metadata": {
    "colab": {
     "base_uri": "https://localhost:8080/",
     "height": 295
    },
    "colab_type": "code",
    "executionInfo": {
     "elapsed": 1003,
     "status": "ok",
     "timestamp": 1590651241590,
     "user": {
      "displayName": "Roman Zakharov",
      "photoUrl": "",
      "userId": "18255168926005506833"
     },
     "user_tz": -240
    },
    "id": "FUzsX6yaLOBS",
    "outputId": "5519263c-0f51-43b2-f23f-4f3c7bf1f57b"
   },
   "outputs": [
    {
     "data": {
      "image/png": "[encoded data removed]",
      "text/plain": [
       "<Figure size 432x288 with 1 Axes>"
      ]
     },
     "metadata": {
      "needs_background": "light",
      "tags": []
     },
     "output_type": "display_data"
    }
   ],
   "source": [
    "import matplotlib.pyplot as plt\n",
    "\n",
    "plt.title('Loss history')\n",
    "plt.grid(True)\n",
    "plt.ylabel('Train loss')\n",
    "plt.xlabel('Step')\n",
    "plt.plot(loss_history);"
   ]
  },
  {
   "cell_type": "code",
   "execution_count": 0,
   "metadata": {
    "colab": {},
    "colab_type": "code",
    "id": "v0MCouVuM3z7"
   },
   "outputs": [],
   "source": [
    "test_dataset = DataWrapper(x_test)\n",
    "test_loader = DataLoader(test_dataset, batch_size=batch_size, shuffle=True)"
   ]
  },
  {
   "cell_type": "code",
   "execution_count": 0,
   "metadata": {
    "colab": {},
    "colab_type": "code",
    "id": "QNdqOpBvOHv7"
   },
   "outputs": [],
   "source": []
  },
  {
   "cell_type": "code",
   "execution_count": 0,
   "metadata": {
    "colab": {},
    "colab_type": "code",
    "id": "vhwOTPn7M_85"
   },
   "outputs": [],
   "source": []
  }
 ],
 "metadata": {
  "colab": {
   "collapsed_sections": [],
   "name": "dl-nlp-cnn1.ipynb",
   "provenance": []
  },
  "kernelspec": {
   "display_name": "Python 3",
   "language": "python",
   "name": "python3"
  },
  "language_info": {
   "codemirror_mode": {
    "name": "ipython",
    "version": 3
   },
   "file_extension": ".py",
   "mimetype": "text/x-python",
   "name": "python",
   "nbconvert_exporter": "python",
   "pygments_lexer": "ipython3",
   "version": "3.8.3"
  }
 },
 "nbformat": 4,
 "nbformat_minor": 1
}
